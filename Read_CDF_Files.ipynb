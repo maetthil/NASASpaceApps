{
  "nbformat": 4,
  "nbformat_minor": 0,
  "metadata": {
    "colab": {
      "provenance": [],
      "collapsed_sections": [],
      "authorship_tag": "ABX9TyP8jjRBTr5JpZl4gUHDJj7v",
      "include_colab_link": true
    },
    "kernelspec": {
      "name": "python3",
      "display_name": "Python 3"
    },
    "language_info": {
      "name": "python"
    },
    "widgets": {
      "application/vnd.jupyter.widget-state+json": {
        "e884b39ef46c455e865519fc251e11ec": {
          "model_module": "@jupyter-widgets/controls",
          "model_name": "HBoxModel",
          "model_module_version": "1.5.0",
          "state": {
            "_dom_classes": [],
            "_model_module": "@jupyter-widgets/controls",
            "_model_module_version": "1.5.0",
            "_model_name": "HBoxModel",
            "_view_count": null,
            "_view_module": "@jupyter-widgets/controls",
            "_view_module_version": "1.5.0",
            "_view_name": "HBoxView",
            "box_style": "",
            "children": [
              "IPY_MODEL_91a82daa75b744788676b476135d4cf7",
              "IPY_MODEL_e5cd5ee701ec4ac5ace8066f4f8c157e",
              "IPY_MODEL_dc7062dd9ad8464db52e8f707054bd26"
            ],
            "layout": "IPY_MODEL_d02505e01322461791e66d4bcae9200f"
          }
        },
        "91a82daa75b744788676b476135d4cf7": {
          "model_module": "@jupyter-widgets/controls",
          "model_name": "HTMLModel",
          "model_module_version": "1.5.0",
          "state": {
            "_dom_classes": [],
            "_model_module": "@jupyter-widgets/controls",
            "_model_module_version": "1.5.0",
            "_model_name": "HTMLModel",
            "_view_count": null,
            "_view_module": "@jupyter-widgets/controls",
            "_view_module_version": "1.5.0",
            "_view_name": "HTMLView",
            "description": "",
            "description_tooltip": null,
            "layout": "IPY_MODEL_450a4b1c63ca447cbafb476408277bd5",
            "placeholder": "​",
            "style": "IPY_MODEL_d071c49b08ee419ca3fd5fc34745875d",
            "value": " 21%"
          }
        },
        "e5cd5ee701ec4ac5ace8066f4f8c157e": {
          "model_module": "@jupyter-widgets/controls",
          "model_name": "FloatProgressModel",
          "model_module_version": "1.5.0",
          "state": {
            "_dom_classes": [],
            "_model_module": "@jupyter-widgets/controls",
            "_model_module_version": "1.5.0",
            "_model_name": "FloatProgressModel",
            "_view_count": null,
            "_view_module": "@jupyter-widgets/controls",
            "_view_module_version": "1.5.0",
            "_view_name": "ProgressView",
            "bar_style": "danger",
            "description": "",
            "description_tooltip": null,
            "layout": "IPY_MODEL_7788a6b331544856a8dfe8f3fc274f16",
            "max": 366,
            "min": 0,
            "orientation": "horizontal",
            "style": "IPY_MODEL_8706aba8f41740a28e12167a885de2b7",
            "value": 77
          }
        },
        "dc7062dd9ad8464db52e8f707054bd26": {
          "model_module": "@jupyter-widgets/controls",
          "model_name": "HTMLModel",
          "model_module_version": "1.5.0",
          "state": {
            "_dom_classes": [],
            "_model_module": "@jupyter-widgets/controls",
            "_model_module_version": "1.5.0",
            "_model_name": "HTMLModel",
            "_view_count": null,
            "_view_module": "@jupyter-widgets/controls",
            "_view_module_version": "1.5.0",
            "_view_name": "HTMLView",
            "description": "",
            "description_tooltip": null,
            "layout": "IPY_MODEL_f22a26b7ebfb4ca9aeeafef21b5c60f7",
            "placeholder": "​",
            "style": "IPY_MODEL_2bc6759d0e16403a8a6e4348d9f19d51",
            "value": " 77/366 [00:16&lt;01:15,  3.83it/s]"
          }
        },
        "d02505e01322461791e66d4bcae9200f": {
          "model_module": "@jupyter-widgets/base",
          "model_name": "LayoutModel",
          "model_module_version": "1.2.0",
          "state": {
            "_model_module": "@jupyter-widgets/base",
            "_model_module_version": "1.2.0",
            "_model_name": "LayoutModel",
            "_view_count": null,
            "_view_module": "@jupyter-widgets/base",
            "_view_module_version": "1.2.0",
            "_view_name": "LayoutView",
            "align_content": null,
            "align_items": null,
            "align_self": null,
            "border": null,
            "bottom": null,
            "display": null,
            "flex": null,
            "flex_flow": null,
            "grid_area": null,
            "grid_auto_columns": null,
            "grid_auto_flow": null,
            "grid_auto_rows": null,
            "grid_column": null,
            "grid_gap": null,
            "grid_row": null,
            "grid_template_areas": null,
            "grid_template_columns": null,
            "grid_template_rows": null,
            "height": null,
            "justify_content": null,
            "justify_items": null,
            "left": null,
            "margin": null,
            "max_height": null,
            "max_width": null,
            "min_height": null,
            "min_width": null,
            "object_fit": null,
            "object_position": null,
            "order": null,
            "overflow": null,
            "overflow_x": null,
            "overflow_y": null,
            "padding": null,
            "right": null,
            "top": null,
            "visibility": null,
            "width": null
          }
        },
        "450a4b1c63ca447cbafb476408277bd5": {
          "model_module": "@jupyter-widgets/base",
          "model_name": "LayoutModel",
          "model_module_version": "1.2.0",
          "state": {
            "_model_module": "@jupyter-widgets/base",
            "_model_module_version": "1.2.0",
            "_model_name": "LayoutModel",
            "_view_count": null,
            "_view_module": "@jupyter-widgets/base",
            "_view_module_version": "1.2.0",
            "_view_name": "LayoutView",
            "align_content": null,
            "align_items": null,
            "align_self": null,
            "border": null,
            "bottom": null,
            "display": null,
            "flex": null,
            "flex_flow": null,
            "grid_area": null,
            "grid_auto_columns": null,
            "grid_auto_flow": null,
            "grid_auto_rows": null,
            "grid_column": null,
            "grid_gap": null,
            "grid_row": null,
            "grid_template_areas": null,
            "grid_template_columns": null,
            "grid_template_rows": null,
            "height": null,
            "justify_content": null,
            "justify_items": null,
            "left": null,
            "margin": null,
            "max_height": null,
            "max_width": null,
            "min_height": null,
            "min_width": null,
            "object_fit": null,
            "object_position": null,
            "order": null,
            "overflow": null,
            "overflow_x": null,
            "overflow_y": null,
            "padding": null,
            "right": null,
            "top": null,
            "visibility": null,
            "width": null
          }
        },
        "d071c49b08ee419ca3fd5fc34745875d": {
          "model_module": "@jupyter-widgets/controls",
          "model_name": "DescriptionStyleModel",
          "model_module_version": "1.5.0",
          "state": {
            "_model_module": "@jupyter-widgets/controls",
            "_model_module_version": "1.5.0",
            "_model_name": "DescriptionStyleModel",
            "_view_count": null,
            "_view_module": "@jupyter-widgets/base",
            "_view_module_version": "1.2.0",
            "_view_name": "StyleView",
            "description_width": ""
          }
        },
        "7788a6b331544856a8dfe8f3fc274f16": {
          "model_module": "@jupyter-widgets/base",
          "model_name": "LayoutModel",
          "model_module_version": "1.2.0",
          "state": {
            "_model_module": "@jupyter-widgets/base",
            "_model_module_version": "1.2.0",
            "_model_name": "LayoutModel",
            "_view_count": null,
            "_view_module": "@jupyter-widgets/base",
            "_view_module_version": "1.2.0",
            "_view_name": "LayoutView",
            "align_content": null,
            "align_items": null,
            "align_self": null,
            "border": null,
            "bottom": null,
            "display": null,
            "flex": null,
            "flex_flow": null,
            "grid_area": null,
            "grid_auto_columns": null,
            "grid_auto_flow": null,
            "grid_auto_rows": null,
            "grid_column": null,
            "grid_gap": null,
            "grid_row": null,
            "grid_template_areas": null,
            "grid_template_columns": null,
            "grid_template_rows": null,
            "height": null,
            "justify_content": null,
            "justify_items": null,
            "left": null,
            "margin": null,
            "max_height": null,
            "max_width": null,
            "min_height": null,
            "min_width": null,
            "object_fit": null,
            "object_position": null,
            "order": null,
            "overflow": null,
            "overflow_x": null,
            "overflow_y": null,
            "padding": null,
            "right": null,
            "top": null,
            "visibility": null,
            "width": null
          }
        },
        "8706aba8f41740a28e12167a885de2b7": {
          "model_module": "@jupyter-widgets/controls",
          "model_name": "ProgressStyleModel",
          "model_module_version": "1.5.0",
          "state": {
            "_model_module": "@jupyter-widgets/controls",
            "_model_module_version": "1.5.0",
            "_model_name": "ProgressStyleModel",
            "_view_count": null,
            "_view_module": "@jupyter-widgets/base",
            "_view_module_version": "1.2.0",
            "_view_name": "StyleView",
            "bar_color": null,
            "description_width": ""
          }
        },
        "f22a26b7ebfb4ca9aeeafef21b5c60f7": {
          "model_module": "@jupyter-widgets/base",
          "model_name": "LayoutModel",
          "model_module_version": "1.2.0",
          "state": {
            "_model_module": "@jupyter-widgets/base",
            "_model_module_version": "1.2.0",
            "_model_name": "LayoutModel",
            "_view_count": null,
            "_view_module": "@jupyter-widgets/base",
            "_view_module_version": "1.2.0",
            "_view_name": "LayoutView",
            "align_content": null,
            "align_items": null,
            "align_self": null,
            "border": null,
            "bottom": null,
            "display": null,
            "flex": null,
            "flex_flow": null,
            "grid_area": null,
            "grid_auto_columns": null,
            "grid_auto_flow": null,
            "grid_auto_rows": null,
            "grid_column": null,
            "grid_gap": null,
            "grid_row": null,
            "grid_template_areas": null,
            "grid_template_columns": null,
            "grid_template_rows": null,
            "height": null,
            "justify_content": null,
            "justify_items": null,
            "left": null,
            "margin": null,
            "max_height": null,
            "max_width": null,
            "min_height": null,
            "min_width": null,
            "object_fit": null,
            "object_position": null,
            "order": null,
            "overflow": null,
            "overflow_x": null,
            "overflow_y": null,
            "padding": null,
            "right": null,
            "top": null,
            "visibility": null,
            "width": null
          }
        },
        "2bc6759d0e16403a8a6e4348d9f19d51": {
          "model_module": "@jupyter-widgets/controls",
          "model_name": "DescriptionStyleModel",
          "model_module_version": "1.5.0",
          "state": {
            "_model_module": "@jupyter-widgets/controls",
            "_model_module_version": "1.5.0",
            "_model_name": "DescriptionStyleModel",
            "_view_count": null,
            "_view_module": "@jupyter-widgets/base",
            "_view_module_version": "1.2.0",
            "_view_name": "StyleView",
            "description_width": ""
          }
        }
      }
    }
  },
  "cells": [
    {
      "cell_type": "markdown",
      "metadata": {
        "id": "view-in-github",
        "colab_type": "text"
      },
      "source": [
        "<a href=\"https://colab.research.google.com/github/maetthil/NASASpaceApps/blob/main/Read_CDF_Files.ipynb\" target=\"_parent\"><img src=\"https://colab.research.google.com/assets/colab-badge.svg\" alt=\"Open In Colab\"/></a>"
      ]
    },
    {
      "cell_type": "code",
      "execution_count": 1,
      "metadata": {
        "id": "3sf4gN-DA4ui"
      },
      "outputs": [],
      "source": [
        "%%capture\n",
        "!pip install cdflib\n",
        "# !pip install spacepy\n",
        "!pip install pyspedas\n",
        "!pip install matplotlib"
      ]
    },
    {
      "cell_type": "code",
      "source": [
        "import cdflib \n",
        "import sys\n",
        "import os\n",
        "import requests\n",
        "import pytz\n",
        "import datetime\n",
        "import pandas as pd\n",
        "from bs4 import BeautifulSoup as bs\n",
        "from tqdm.notebook import tqdm\n",
        "\n",
        "\n",
        "import pyspedas\n",
        "from pytplot import tplot\n",
        "import pytplot"
      ],
      "metadata": {
        "id": "54PeD5skA7vE"
      },
      "execution_count": 2,
      "outputs": []
    },
    {
      "cell_type": "code",
      "source": [
        "#Mudei para baixar do satellite Dscovr\n",
        "def download_bwt_file(year='2018'):\n",
        "    url = f'https://cdaweb.gsfc.nasa.gov/pub/data/dscovr/h1/faraday_cup/{year}/'\n",
        "    content = requests.get(url).content\n",
        "    DATA_FOLDER = 'dataset/dscovr/'\n",
        "    if not os.path.exists(DATA_FOLDER):\n",
        "        os.mkdir(DATA_FOLDER)\n",
        "    links = bs(content).findAll('a', href=True)\n",
        "    print (f'Baixando arquivos de dados de {year}')\n",
        "    for link in tqdm(links):\n",
        "        filename = link['href']\n",
        "        if filename.find('.cdf') < 0:\n",
        "            continue\n",
        "        response = requests.get(f'{url}{filename}')\n",
        "        with open(f'{DATA_FOLDER}{filename}', 'wb') as f:\n",
        "            f.write(response.content)"
      ],
      "metadata": {
        "id": "_MNz8ggKBIW2"
      },
      "execution_count": 20,
      "outputs": []
    },
    {
      "cell_type": "code",
      "source": [
        "download_bwt_file()"
      ],
      "metadata": {
        "colab": {
          "base_uri": "https://localhost:8080/",
          "height": 368,
          "referenced_widgets": [
            "e884b39ef46c455e865519fc251e11ec",
            "91a82daa75b744788676b476135d4cf7",
            "e5cd5ee701ec4ac5ace8066f4f8c157e",
            "dc7062dd9ad8464db52e8f707054bd26",
            "d02505e01322461791e66d4bcae9200f",
            "450a4b1c63ca447cbafb476408277bd5",
            "d071c49b08ee419ca3fd5fc34745875d",
            "7788a6b331544856a8dfe8f3fc274f16",
            "8706aba8f41740a28e12167a885de2b7",
            "f22a26b7ebfb4ca9aeeafef21b5c60f7",
            "2bc6759d0e16403a8a6e4348d9f19d51"
          ]
        },
        "id": "1wsIMPJfBiN4",
        "outputId": "5cd0ea76-b983-4853-e015-031ed7fd70a2"
      },
      "execution_count": 21,
      "outputs": [
        {
          "output_type": "stream",
          "name": "stdout",
          "text": [
            "Baixando arquivos de dados de 2018\n"
          ]
        },
        {
          "output_type": "display_data",
          "data": {
            "text/plain": [
              "  0%|          | 0/366 [00:00<?, ?it/s]"
            ],
            "application/vnd.jupyter.widget-view+json": {
              "version_major": 2,
              "version_minor": 0,
              "model_id": "e884b39ef46c455e865519fc251e11ec"
            }
          },
          "metadata": {}
        },
        {
          "output_type": "error",
          "ename": "KeyboardInterrupt",
          "evalue": "ignored",
          "traceback": [
            "\u001b[0;31m---------------------------------------------------------------------------\u001b[0m",
            "\u001b[0;31mKeyboardInterrupt\u001b[0m                         Traceback (most recent call last)",
            "\u001b[0;32m<ipython-input-21-066cd1e26628>\u001b[0m in \u001b[0;36m<module>\u001b[0;34m\u001b[0m\n\u001b[0;32m----> 1\u001b[0;31m \u001b[0mdownload_bwt_file\u001b[0m\u001b[0;34m(\u001b[0m\u001b[0;34m)\u001b[0m\u001b[0;34m\u001b[0m\u001b[0;34m\u001b[0m\u001b[0m\n\u001b[0m",
            "\u001b[0;32m<ipython-input-20-37b14a34a01c>\u001b[0m in \u001b[0;36mdownload_bwt_file\u001b[0;34m(year)\u001b[0m\n\u001b[1;32m     12\u001b[0m         \u001b[0;32mif\u001b[0m \u001b[0mfilename\u001b[0m\u001b[0;34m.\u001b[0m\u001b[0mfind\u001b[0m\u001b[0;34m(\u001b[0m\u001b[0;34m'.cdf'\u001b[0m\u001b[0;34m)\u001b[0m \u001b[0;34m<\u001b[0m \u001b[0;36m0\u001b[0m\u001b[0;34m:\u001b[0m\u001b[0;34m\u001b[0m\u001b[0;34m\u001b[0m\u001b[0m\n\u001b[1;32m     13\u001b[0m             \u001b[0;32mcontinue\u001b[0m\u001b[0;34m\u001b[0m\u001b[0;34m\u001b[0m\u001b[0m\n\u001b[0;32m---> 14\u001b[0;31m         \u001b[0mresponse\u001b[0m \u001b[0;34m=\u001b[0m \u001b[0mrequests\u001b[0m\u001b[0;34m.\u001b[0m\u001b[0mget\u001b[0m\u001b[0;34m(\u001b[0m\u001b[0;34mf'{url}{filename}'\u001b[0m\u001b[0;34m)\u001b[0m\u001b[0;34m\u001b[0m\u001b[0;34m\u001b[0m\u001b[0m\n\u001b[0m\u001b[1;32m     15\u001b[0m         \u001b[0;32mwith\u001b[0m \u001b[0mopen\u001b[0m\u001b[0;34m(\u001b[0m\u001b[0;34mf'{DATA_FOLDER}{filename}'\u001b[0m\u001b[0;34m,\u001b[0m \u001b[0;34m'wb'\u001b[0m\u001b[0;34m)\u001b[0m \u001b[0;32mas\u001b[0m \u001b[0mf\u001b[0m\u001b[0;34m:\u001b[0m\u001b[0;34m\u001b[0m\u001b[0;34m\u001b[0m\u001b[0m\n\u001b[1;32m     16\u001b[0m             \u001b[0mf\u001b[0m\u001b[0;34m.\u001b[0m\u001b[0mwrite\u001b[0m\u001b[0;34m(\u001b[0m\u001b[0mresponse\u001b[0m\u001b[0;34m.\u001b[0m\u001b[0mcontent\u001b[0m\u001b[0;34m)\u001b[0m\u001b[0;34m\u001b[0m\u001b[0;34m\u001b[0m\u001b[0m\n",
            "\u001b[0;32m/usr/local/lib/python3.7/dist-packages/requests/api.py\u001b[0m in \u001b[0;36mget\u001b[0;34m(url, params, **kwargs)\u001b[0m\n\u001b[1;32m     74\u001b[0m \u001b[0;34m\u001b[0m\u001b[0m\n\u001b[1;32m     75\u001b[0m     \u001b[0mkwargs\u001b[0m\u001b[0;34m.\u001b[0m\u001b[0msetdefault\u001b[0m\u001b[0;34m(\u001b[0m\u001b[0;34m'allow_redirects'\u001b[0m\u001b[0;34m,\u001b[0m \u001b[0;32mTrue\u001b[0m\u001b[0;34m)\u001b[0m\u001b[0;34m\u001b[0m\u001b[0;34m\u001b[0m\u001b[0m\n\u001b[0;32m---> 76\u001b[0;31m     \u001b[0;32mreturn\u001b[0m \u001b[0mrequest\u001b[0m\u001b[0;34m(\u001b[0m\u001b[0;34m'get'\u001b[0m\u001b[0;34m,\u001b[0m \u001b[0murl\u001b[0m\u001b[0;34m,\u001b[0m \u001b[0mparams\u001b[0m\u001b[0;34m=\u001b[0m\u001b[0mparams\u001b[0m\u001b[0;34m,\u001b[0m \u001b[0;34m**\u001b[0m\u001b[0mkwargs\u001b[0m\u001b[0;34m)\u001b[0m\u001b[0;34m\u001b[0m\u001b[0;34m\u001b[0m\u001b[0m\n\u001b[0m\u001b[1;32m     77\u001b[0m \u001b[0;34m\u001b[0m\u001b[0m\n\u001b[1;32m     78\u001b[0m \u001b[0;34m\u001b[0m\u001b[0m\n",
            "\u001b[0;32m/usr/local/lib/python3.7/dist-packages/requests/api.py\u001b[0m in \u001b[0;36mrequest\u001b[0;34m(method, url, **kwargs)\u001b[0m\n\u001b[1;32m     59\u001b[0m     \u001b[0;31m# cases, and look like a memory leak in others.\u001b[0m\u001b[0;34m\u001b[0m\u001b[0;34m\u001b[0m\u001b[0;34m\u001b[0m\u001b[0m\n\u001b[1;32m     60\u001b[0m     \u001b[0;32mwith\u001b[0m \u001b[0msessions\u001b[0m\u001b[0;34m.\u001b[0m\u001b[0mSession\u001b[0m\u001b[0;34m(\u001b[0m\u001b[0;34m)\u001b[0m \u001b[0;32mas\u001b[0m \u001b[0msession\u001b[0m\u001b[0;34m:\u001b[0m\u001b[0;34m\u001b[0m\u001b[0;34m\u001b[0m\u001b[0m\n\u001b[0;32m---> 61\u001b[0;31m         \u001b[0;32mreturn\u001b[0m \u001b[0msession\u001b[0m\u001b[0;34m.\u001b[0m\u001b[0mrequest\u001b[0m\u001b[0;34m(\u001b[0m\u001b[0mmethod\u001b[0m\u001b[0;34m=\u001b[0m\u001b[0mmethod\u001b[0m\u001b[0;34m,\u001b[0m \u001b[0murl\u001b[0m\u001b[0;34m=\u001b[0m\u001b[0murl\u001b[0m\u001b[0;34m,\u001b[0m \u001b[0;34m**\u001b[0m\u001b[0mkwargs\u001b[0m\u001b[0;34m)\u001b[0m\u001b[0;34m\u001b[0m\u001b[0;34m\u001b[0m\u001b[0m\n\u001b[0m\u001b[1;32m     62\u001b[0m \u001b[0;34m\u001b[0m\u001b[0m\n\u001b[1;32m     63\u001b[0m \u001b[0;34m\u001b[0m\u001b[0m\n",
            "\u001b[0;32m/usr/local/lib/python3.7/dist-packages/requests/sessions.py\u001b[0m in \u001b[0;36mrequest\u001b[0;34m(self, method, url, params, data, headers, cookies, files, auth, timeout, allow_redirects, proxies, hooks, stream, verify, cert, json)\u001b[0m\n\u001b[1;32m    528\u001b[0m         }\n\u001b[1;32m    529\u001b[0m         \u001b[0msend_kwargs\u001b[0m\u001b[0;34m.\u001b[0m\u001b[0mupdate\u001b[0m\u001b[0;34m(\u001b[0m\u001b[0msettings\u001b[0m\u001b[0;34m)\u001b[0m\u001b[0;34m\u001b[0m\u001b[0;34m\u001b[0m\u001b[0m\n\u001b[0;32m--> 530\u001b[0;31m         \u001b[0mresp\u001b[0m \u001b[0;34m=\u001b[0m \u001b[0mself\u001b[0m\u001b[0;34m.\u001b[0m\u001b[0msend\u001b[0m\u001b[0;34m(\u001b[0m\u001b[0mprep\u001b[0m\u001b[0;34m,\u001b[0m \u001b[0;34m**\u001b[0m\u001b[0msend_kwargs\u001b[0m\u001b[0;34m)\u001b[0m\u001b[0;34m\u001b[0m\u001b[0;34m\u001b[0m\u001b[0m\n\u001b[0m\u001b[1;32m    531\u001b[0m \u001b[0;34m\u001b[0m\u001b[0m\n\u001b[1;32m    532\u001b[0m         \u001b[0;32mreturn\u001b[0m \u001b[0mresp\u001b[0m\u001b[0;34m\u001b[0m\u001b[0;34m\u001b[0m\u001b[0m\n",
            "\u001b[0;32m/usr/local/lib/python3.7/dist-packages/requests/sessions.py\u001b[0m in \u001b[0;36msend\u001b[0;34m(self, request, **kwargs)\u001b[0m\n\u001b[1;32m    681\u001b[0m \u001b[0;34m\u001b[0m\u001b[0m\n\u001b[1;32m    682\u001b[0m         \u001b[0;32mif\u001b[0m \u001b[0;32mnot\u001b[0m \u001b[0mstream\u001b[0m\u001b[0;34m:\u001b[0m\u001b[0;34m\u001b[0m\u001b[0;34m\u001b[0m\u001b[0m\n\u001b[0;32m--> 683\u001b[0;31m             \u001b[0mr\u001b[0m\u001b[0;34m.\u001b[0m\u001b[0mcontent\u001b[0m\u001b[0;34m\u001b[0m\u001b[0;34m\u001b[0m\u001b[0m\n\u001b[0m\u001b[1;32m    684\u001b[0m \u001b[0;34m\u001b[0m\u001b[0m\n\u001b[1;32m    685\u001b[0m         \u001b[0;32mreturn\u001b[0m \u001b[0mr\u001b[0m\u001b[0;34m\u001b[0m\u001b[0;34m\u001b[0m\u001b[0m\n",
            "\u001b[0;32m/usr/local/lib/python3.7/dist-packages/requests/models.py\u001b[0m in \u001b[0;36mcontent\u001b[0;34m(self)\u001b[0m\n\u001b[1;32m    827\u001b[0m                 \u001b[0mself\u001b[0m\u001b[0;34m.\u001b[0m\u001b[0m_content\u001b[0m \u001b[0;34m=\u001b[0m \u001b[0;32mNone\u001b[0m\u001b[0;34m\u001b[0m\u001b[0;34m\u001b[0m\u001b[0m\n\u001b[1;32m    828\u001b[0m             \u001b[0;32melse\u001b[0m\u001b[0;34m:\u001b[0m\u001b[0;34m\u001b[0m\u001b[0;34m\u001b[0m\u001b[0m\n\u001b[0;32m--> 829\u001b[0;31m                 \u001b[0mself\u001b[0m\u001b[0;34m.\u001b[0m\u001b[0m_content\u001b[0m \u001b[0;34m=\u001b[0m \u001b[0;34mb''\u001b[0m\u001b[0;34m.\u001b[0m\u001b[0mjoin\u001b[0m\u001b[0;34m(\u001b[0m\u001b[0mself\u001b[0m\u001b[0;34m.\u001b[0m\u001b[0miter_content\u001b[0m\u001b[0;34m(\u001b[0m\u001b[0mCONTENT_CHUNK_SIZE\u001b[0m\u001b[0;34m)\u001b[0m\u001b[0;34m)\u001b[0m \u001b[0;32mor\u001b[0m \u001b[0;34mb''\u001b[0m\u001b[0;34m\u001b[0m\u001b[0;34m\u001b[0m\u001b[0m\n\u001b[0m\u001b[1;32m    830\u001b[0m \u001b[0;34m\u001b[0m\u001b[0m\n\u001b[1;32m    831\u001b[0m         \u001b[0mself\u001b[0m\u001b[0;34m.\u001b[0m\u001b[0m_content_consumed\u001b[0m \u001b[0;34m=\u001b[0m \u001b[0;32mTrue\u001b[0m\u001b[0;34m\u001b[0m\u001b[0;34m\u001b[0m\u001b[0m\n",
            "\u001b[0;32m/usr/local/lib/python3.7/dist-packages/requests/models.py\u001b[0m in \u001b[0;36mgenerate\u001b[0;34m()\u001b[0m\n\u001b[1;32m    749\u001b[0m             \u001b[0;32mif\u001b[0m \u001b[0mhasattr\u001b[0m\u001b[0;34m(\u001b[0m\u001b[0mself\u001b[0m\u001b[0;34m.\u001b[0m\u001b[0mraw\u001b[0m\u001b[0;34m,\u001b[0m \u001b[0;34m'stream'\u001b[0m\u001b[0;34m)\u001b[0m\u001b[0;34m:\u001b[0m\u001b[0;34m\u001b[0m\u001b[0;34m\u001b[0m\u001b[0m\n\u001b[1;32m    750\u001b[0m                 \u001b[0;32mtry\u001b[0m\u001b[0;34m:\u001b[0m\u001b[0;34m\u001b[0m\u001b[0;34m\u001b[0m\u001b[0m\n\u001b[0;32m--> 751\u001b[0;31m                     \u001b[0;32mfor\u001b[0m \u001b[0mchunk\u001b[0m \u001b[0;32min\u001b[0m \u001b[0mself\u001b[0m\u001b[0;34m.\u001b[0m\u001b[0mraw\u001b[0m\u001b[0;34m.\u001b[0m\u001b[0mstream\u001b[0m\u001b[0;34m(\u001b[0m\u001b[0mchunk_size\u001b[0m\u001b[0;34m,\u001b[0m \u001b[0mdecode_content\u001b[0m\u001b[0;34m=\u001b[0m\u001b[0;32mTrue\u001b[0m\u001b[0;34m)\u001b[0m\u001b[0;34m:\u001b[0m\u001b[0;34m\u001b[0m\u001b[0;34m\u001b[0m\u001b[0m\n\u001b[0m\u001b[1;32m    752\u001b[0m                         \u001b[0;32myield\u001b[0m \u001b[0mchunk\u001b[0m\u001b[0;34m\u001b[0m\u001b[0;34m\u001b[0m\u001b[0m\n\u001b[1;32m    753\u001b[0m                 \u001b[0;32mexcept\u001b[0m \u001b[0mProtocolError\u001b[0m \u001b[0;32mas\u001b[0m \u001b[0me\u001b[0m\u001b[0;34m:\u001b[0m\u001b[0;34m\u001b[0m\u001b[0;34m\u001b[0m\u001b[0m\n",
            "\u001b[0;32m/usr/local/lib/python3.7/dist-packages/urllib3/response.py\u001b[0m in \u001b[0;36mstream\u001b[0;34m(self, amt, decode_content)\u001b[0m\n\u001b[1;32m    494\u001b[0m         \u001b[0;32melse\u001b[0m\u001b[0;34m:\u001b[0m\u001b[0;34m\u001b[0m\u001b[0;34m\u001b[0m\u001b[0m\n\u001b[1;32m    495\u001b[0m             \u001b[0;32mwhile\u001b[0m \u001b[0;32mnot\u001b[0m \u001b[0mis_fp_closed\u001b[0m\u001b[0;34m(\u001b[0m\u001b[0mself\u001b[0m\u001b[0;34m.\u001b[0m\u001b[0m_fp\u001b[0m\u001b[0;34m)\u001b[0m\u001b[0;34m:\u001b[0m\u001b[0;34m\u001b[0m\u001b[0;34m\u001b[0m\u001b[0m\n\u001b[0;32m--> 496\u001b[0;31m                 \u001b[0mdata\u001b[0m \u001b[0;34m=\u001b[0m \u001b[0mself\u001b[0m\u001b[0;34m.\u001b[0m\u001b[0mread\u001b[0m\u001b[0;34m(\u001b[0m\u001b[0mamt\u001b[0m\u001b[0;34m=\u001b[0m\u001b[0mamt\u001b[0m\u001b[0;34m,\u001b[0m \u001b[0mdecode_content\u001b[0m\u001b[0;34m=\u001b[0m\u001b[0mdecode_content\u001b[0m\u001b[0;34m)\u001b[0m\u001b[0;34m\u001b[0m\u001b[0;34m\u001b[0m\u001b[0m\n\u001b[0m\u001b[1;32m    497\u001b[0m \u001b[0;34m\u001b[0m\u001b[0m\n\u001b[1;32m    498\u001b[0m                 \u001b[0;32mif\u001b[0m \u001b[0mdata\u001b[0m\u001b[0;34m:\u001b[0m\u001b[0;34m\u001b[0m\u001b[0;34m\u001b[0m\u001b[0m\n",
            "\u001b[0;32m/usr/local/lib/python3.7/dist-packages/urllib3/response.py\u001b[0m in \u001b[0;36mread\u001b[0;34m(self, amt, decode_content, cache_content)\u001b[0m\n\u001b[1;32m    442\u001b[0m             \u001b[0;32melse\u001b[0m\u001b[0;34m:\u001b[0m\u001b[0;34m\u001b[0m\u001b[0;34m\u001b[0m\u001b[0m\n\u001b[1;32m    443\u001b[0m                 \u001b[0mcache_content\u001b[0m \u001b[0;34m=\u001b[0m \u001b[0;32mFalse\u001b[0m\u001b[0;34m\u001b[0m\u001b[0;34m\u001b[0m\u001b[0m\n\u001b[0;32m--> 444\u001b[0;31m                 \u001b[0mdata\u001b[0m \u001b[0;34m=\u001b[0m \u001b[0mself\u001b[0m\u001b[0;34m.\u001b[0m\u001b[0m_fp\u001b[0m\u001b[0;34m.\u001b[0m\u001b[0mread\u001b[0m\u001b[0;34m(\u001b[0m\u001b[0mamt\u001b[0m\u001b[0;34m)\u001b[0m\u001b[0;34m\u001b[0m\u001b[0;34m\u001b[0m\u001b[0m\n\u001b[0m\u001b[1;32m    445\u001b[0m                 \u001b[0;32mif\u001b[0m \u001b[0mamt\u001b[0m \u001b[0;34m!=\u001b[0m \u001b[0;36m0\u001b[0m \u001b[0;32mand\u001b[0m \u001b[0;32mnot\u001b[0m \u001b[0mdata\u001b[0m\u001b[0;34m:\u001b[0m  \u001b[0;31m# Platform-specific: Buggy versions of Python.\u001b[0m\u001b[0;34m\u001b[0m\u001b[0;34m\u001b[0m\u001b[0m\n\u001b[1;32m    446\u001b[0m                     \u001b[0;31m# Close the connection when no data is returned\u001b[0m\u001b[0;34m\u001b[0m\u001b[0;34m\u001b[0m\u001b[0;34m\u001b[0m\u001b[0m\n",
            "\u001b[0;32m/usr/lib/python3.7/http/client.py\u001b[0m in \u001b[0;36mread\u001b[0;34m(self, amt)\u001b[0m\n\u001b[1;32m    463\u001b[0m             \u001b[0;31m# Amount is given, implement using readinto\u001b[0m\u001b[0;34m\u001b[0m\u001b[0;34m\u001b[0m\u001b[0;34m\u001b[0m\u001b[0m\n\u001b[1;32m    464\u001b[0m             \u001b[0mb\u001b[0m \u001b[0;34m=\u001b[0m \u001b[0mbytearray\u001b[0m\u001b[0;34m(\u001b[0m\u001b[0mamt\u001b[0m\u001b[0;34m)\u001b[0m\u001b[0;34m\u001b[0m\u001b[0;34m\u001b[0m\u001b[0m\n\u001b[0;32m--> 465\u001b[0;31m             \u001b[0mn\u001b[0m \u001b[0;34m=\u001b[0m \u001b[0mself\u001b[0m\u001b[0;34m.\u001b[0m\u001b[0mreadinto\u001b[0m\u001b[0;34m(\u001b[0m\u001b[0mb\u001b[0m\u001b[0;34m)\u001b[0m\u001b[0;34m\u001b[0m\u001b[0;34m\u001b[0m\u001b[0m\n\u001b[0m\u001b[1;32m    466\u001b[0m             \u001b[0;32mreturn\u001b[0m \u001b[0mmemoryview\u001b[0m\u001b[0;34m(\u001b[0m\u001b[0mb\u001b[0m\u001b[0;34m)\u001b[0m\u001b[0;34m[\u001b[0m\u001b[0;34m:\u001b[0m\u001b[0mn\u001b[0m\u001b[0;34m]\u001b[0m\u001b[0;34m.\u001b[0m\u001b[0mtobytes\u001b[0m\u001b[0;34m(\u001b[0m\u001b[0;34m)\u001b[0m\u001b[0;34m\u001b[0m\u001b[0;34m\u001b[0m\u001b[0m\n\u001b[1;32m    467\u001b[0m         \u001b[0;32melse\u001b[0m\u001b[0;34m:\u001b[0m\u001b[0;34m\u001b[0m\u001b[0;34m\u001b[0m\u001b[0m\n",
            "\u001b[0;32m/usr/lib/python3.7/http/client.py\u001b[0m in \u001b[0;36mreadinto\u001b[0;34m(self, b)\u001b[0m\n\u001b[1;32m    507\u001b[0m         \u001b[0;31m# connection, and the user is reading more bytes than will be provided\u001b[0m\u001b[0;34m\u001b[0m\u001b[0;34m\u001b[0m\u001b[0;34m\u001b[0m\u001b[0m\n\u001b[1;32m    508\u001b[0m         \u001b[0;31m# (for example, reading in 1k chunks)\u001b[0m\u001b[0;34m\u001b[0m\u001b[0;34m\u001b[0m\u001b[0;34m\u001b[0m\u001b[0m\n\u001b[0;32m--> 509\u001b[0;31m         \u001b[0mn\u001b[0m \u001b[0;34m=\u001b[0m \u001b[0mself\u001b[0m\u001b[0;34m.\u001b[0m\u001b[0mfp\u001b[0m\u001b[0;34m.\u001b[0m\u001b[0mreadinto\u001b[0m\u001b[0;34m(\u001b[0m\u001b[0mb\u001b[0m\u001b[0;34m)\u001b[0m\u001b[0;34m\u001b[0m\u001b[0;34m\u001b[0m\u001b[0m\n\u001b[0m\u001b[1;32m    510\u001b[0m         \u001b[0;32mif\u001b[0m \u001b[0;32mnot\u001b[0m \u001b[0mn\u001b[0m \u001b[0;32mand\u001b[0m \u001b[0mb\u001b[0m\u001b[0;34m:\u001b[0m\u001b[0;34m\u001b[0m\u001b[0;34m\u001b[0m\u001b[0m\n\u001b[1;32m    511\u001b[0m             \u001b[0;31m# Ideally, we would raise IncompleteRead if the content-length\u001b[0m\u001b[0;34m\u001b[0m\u001b[0;34m\u001b[0m\u001b[0;34m\u001b[0m\u001b[0m\n",
            "\u001b[0;32m/usr/lib/python3.7/socket.py\u001b[0m in \u001b[0;36mreadinto\u001b[0;34m(self, b)\u001b[0m\n\u001b[1;32m    587\u001b[0m         \u001b[0;32mwhile\u001b[0m \u001b[0;32mTrue\u001b[0m\u001b[0;34m:\u001b[0m\u001b[0;34m\u001b[0m\u001b[0;34m\u001b[0m\u001b[0m\n\u001b[1;32m    588\u001b[0m             \u001b[0;32mtry\u001b[0m\u001b[0;34m:\u001b[0m\u001b[0;34m\u001b[0m\u001b[0;34m\u001b[0m\u001b[0m\n\u001b[0;32m--> 589\u001b[0;31m                 \u001b[0;32mreturn\u001b[0m \u001b[0mself\u001b[0m\u001b[0;34m.\u001b[0m\u001b[0m_sock\u001b[0m\u001b[0;34m.\u001b[0m\u001b[0mrecv_into\u001b[0m\u001b[0;34m(\u001b[0m\u001b[0mb\u001b[0m\u001b[0;34m)\u001b[0m\u001b[0;34m\u001b[0m\u001b[0;34m\u001b[0m\u001b[0m\n\u001b[0m\u001b[1;32m    590\u001b[0m             \u001b[0;32mexcept\u001b[0m \u001b[0mtimeout\u001b[0m\u001b[0;34m:\u001b[0m\u001b[0;34m\u001b[0m\u001b[0;34m\u001b[0m\u001b[0m\n\u001b[1;32m    591\u001b[0m                 \u001b[0mself\u001b[0m\u001b[0;34m.\u001b[0m\u001b[0m_timeout_occurred\u001b[0m \u001b[0;34m=\u001b[0m \u001b[0;32mTrue\u001b[0m\u001b[0;34m\u001b[0m\u001b[0;34m\u001b[0m\u001b[0m\n",
            "\u001b[0;32m/usr/lib/python3.7/ssl.py\u001b[0m in \u001b[0;36mrecv_into\u001b[0;34m(self, buffer, nbytes, flags)\u001b[0m\n\u001b[1;32m   1069\u001b[0m                   \u001b[0;34m\"non-zero flags not allowed in calls to recv_into() on %s\"\u001b[0m \u001b[0;34m%\u001b[0m\u001b[0;34m\u001b[0m\u001b[0;34m\u001b[0m\u001b[0m\n\u001b[1;32m   1070\u001b[0m                   self.__class__)\n\u001b[0;32m-> 1071\u001b[0;31m             \u001b[0;32mreturn\u001b[0m \u001b[0mself\u001b[0m\u001b[0;34m.\u001b[0m\u001b[0mread\u001b[0m\u001b[0;34m(\u001b[0m\u001b[0mnbytes\u001b[0m\u001b[0;34m,\u001b[0m \u001b[0mbuffer\u001b[0m\u001b[0;34m)\u001b[0m\u001b[0;34m\u001b[0m\u001b[0;34m\u001b[0m\u001b[0m\n\u001b[0m\u001b[1;32m   1072\u001b[0m         \u001b[0;32melse\u001b[0m\u001b[0;34m:\u001b[0m\u001b[0;34m\u001b[0m\u001b[0;34m\u001b[0m\u001b[0m\n\u001b[1;32m   1073\u001b[0m             \u001b[0;32mreturn\u001b[0m \u001b[0msuper\u001b[0m\u001b[0;34m(\u001b[0m\u001b[0;34m)\u001b[0m\u001b[0;34m.\u001b[0m\u001b[0mrecv_into\u001b[0m\u001b[0;34m(\u001b[0m\u001b[0mbuffer\u001b[0m\u001b[0;34m,\u001b[0m \u001b[0mnbytes\u001b[0m\u001b[0;34m,\u001b[0m \u001b[0mflags\u001b[0m\u001b[0;34m)\u001b[0m\u001b[0;34m\u001b[0m\u001b[0;34m\u001b[0m\u001b[0m\n",
            "\u001b[0;32m/usr/lib/python3.7/ssl.py\u001b[0m in \u001b[0;36mread\u001b[0;34m(self, len, buffer)\u001b[0m\n\u001b[1;32m    927\u001b[0m         \u001b[0;32mtry\u001b[0m\u001b[0;34m:\u001b[0m\u001b[0;34m\u001b[0m\u001b[0;34m\u001b[0m\u001b[0m\n\u001b[1;32m    928\u001b[0m             \u001b[0;32mif\u001b[0m \u001b[0mbuffer\u001b[0m \u001b[0;32mis\u001b[0m \u001b[0;32mnot\u001b[0m \u001b[0;32mNone\u001b[0m\u001b[0;34m:\u001b[0m\u001b[0;34m\u001b[0m\u001b[0;34m\u001b[0m\u001b[0m\n\u001b[0;32m--> 929\u001b[0;31m                 \u001b[0;32mreturn\u001b[0m \u001b[0mself\u001b[0m\u001b[0;34m.\u001b[0m\u001b[0m_sslobj\u001b[0m\u001b[0;34m.\u001b[0m\u001b[0mread\u001b[0m\u001b[0;34m(\u001b[0m\u001b[0mlen\u001b[0m\u001b[0;34m,\u001b[0m \u001b[0mbuffer\u001b[0m\u001b[0;34m)\u001b[0m\u001b[0;34m\u001b[0m\u001b[0;34m\u001b[0m\u001b[0m\n\u001b[0m\u001b[1;32m    930\u001b[0m             \u001b[0;32melse\u001b[0m\u001b[0;34m:\u001b[0m\u001b[0;34m\u001b[0m\u001b[0;34m\u001b[0m\u001b[0m\n\u001b[1;32m    931\u001b[0m                 \u001b[0;32mreturn\u001b[0m \u001b[0mself\u001b[0m\u001b[0;34m.\u001b[0m\u001b[0m_sslobj\u001b[0m\u001b[0;34m.\u001b[0m\u001b[0mread\u001b[0m\u001b[0;34m(\u001b[0m\u001b[0mlen\u001b[0m\u001b[0;34m)\u001b[0m\u001b[0;34m\u001b[0m\u001b[0;34m\u001b[0m\u001b[0m\n",
            "\u001b[0;31mKeyboardInterrupt\u001b[0m: "
          ]
        }
      ]
    },
    {
      "cell_type": "code",
      "source": [
        "data_cdf = cdflib.CDF(\"/content/dataset/dscovr/dscovr_h1_fc_20180108_v08.cdf\")"
      ],
      "metadata": {
        "id": "ySCHmiE7Bmyf"
      },
      "execution_count": 22,
      "outputs": []
    },
    {
      "cell_type": "code",
      "source": [
        "print(data_cdf)"
      ],
      "metadata": {
        "colab": {
          "base_uri": "https://localhost:8080/"
        },
        "id": "4PC0nPU6CNoB",
        "outputId": "06ab5661-76be-4bec-9c43-31a01137ace9"
      },
      "execution_count": 23,
      "outputs": [
        {
          "output_type": "stream",
          "name": "stdout",
          "text": [
            "<cdflib.cdfread.CDF object at 0x7fc59458b5d0>\n"
          ]
        }
      ]
    },
    {
      "cell_type": "code",
      "source": [
        "# Verifica quais são as variaveis dentro do arquivo\n",
        "data_info = data_cdf.cdf_info()\n",
        "data_info"
      ],
      "metadata": {
        "colab": {
          "base_uri": "https://localhost:8080/"
        },
        "id": "2WPL9WhMCaKm",
        "outputId": "d4006470-3d9c-41ef-8e73-edb58c35f5b9"
      },
      "execution_count": 24,
      "outputs": [
        {
          "output_type": "execute_result",
          "data": {
            "text/plain": [
              "{'CDF': PosixPath('/content/dataset/dscovr/dscovr_h1_fc_20180108_v08.cdf'),\n",
              " 'Version': '3.6.3',\n",
              " 'Encoding': 6,\n",
              " 'Majority': 'Column_major',\n",
              " 'rVariables': [],\n",
              " 'zVariables': ['Epoch',\n",
              "  'Time_PB5',\n",
              "  'format_time',\n",
              "  'unit_time',\n",
              "  'V_GSE',\n",
              "  'cartesian',\n",
              "  'label_V_GSE',\n",
              "  'V_GSE_DELTA',\n",
              "  'label_V_GSE_DELTA',\n",
              "  'THERMAL_SPD',\n",
              "  'THERMAL_SPD_DELTA',\n",
              "  'Np',\n",
              "  'Np_DELTA',\n",
              "  'THERMAL_TEMP',\n",
              "  'THERMAL_TEMP_DELTA',\n",
              "  'DQF'],\n",
              " 'Attributes': [{'Project': 'Global'},\n",
              "  {'Source_name': 'Global'},\n",
              "  {'Discipline': 'Global'},\n",
              "  {'Data_type': 'Global'},\n",
              "  {'Descriptor': 'Global'},\n",
              "  {'File_naming_convention': 'Global'},\n",
              "  {'Data_version': 'Global'},\n",
              "  {'PI_name': 'Global'},\n",
              "  {'PI_affiliation': 'Global'},\n",
              "  {'TEXT': 'Global'},\n",
              "  {'Instrument_type': 'Global'},\n",
              "  {'Mission_group': 'Global'},\n",
              "  {'Logical_source': 'Global'},\n",
              "  {'Logical_file_id': 'Global'},\n",
              "  {'Logical_source_description': 'Global'},\n",
              "  {'Time_resolution': 'Global'},\n",
              "  {'Rules_of_use': 'Global'},\n",
              "  {'Generated_by': 'Global'},\n",
              "  {'Generation_date': 'Global'},\n",
              "  {'Acknowledgement': 'Global'},\n",
              "  {'MODS': 'Global'},\n",
              "  {'ADID_ref': 'Global'},\n",
              "  {'LINK_TEXT': 'Global'},\n",
              "  {'LINK_TITLE': 'Global'},\n",
              "  {'HTTP_LINK': 'Global'},\n",
              "  {'CATDESC': 'Variable'},\n",
              "  {'DEPEND_0': 'Variable'},\n",
              "  {'DEPEND_1': 'Variable'},\n",
              "  {'DEPEND_2': 'Variable'},\n",
              "  {'DEPEND_3': 'Variable'},\n",
              "  {'DICT_KEY': 'Variable'},\n",
              "  {'DISPLAY_TYPE': 'Variable'},\n",
              "  {'FIELDNAM': 'Variable'},\n",
              "  {'FILLVAL': 'Variable'},\n",
              "  {'FORMAT': 'Variable'},\n",
              "  {'LABLAXIS': 'Variable'},\n",
              "  {'LABL_PTR_1': 'Variable'},\n",
              "  {'LABL_PTR_2': 'Variable'},\n",
              "  {'LABL_PTR_3': 'Variable'},\n",
              "  {'UNITS': 'Variable'},\n",
              "  {'UNIT_PTR': 'Variable'},\n",
              "  {'VALIDMIN': 'Variable'},\n",
              "  {'VALIDMAX': 'Variable'},\n",
              "  {'VAR_TYPE': 'Variable'},\n",
              "  {'SCALETYP': 'Variable'},\n",
              "  {'SCAL_PTR': 'Variable'},\n",
              "  {'VAR_NOTES': 'Variable'},\n",
              "  {'MONOTON': 'Variable'},\n",
              "  {'LEAP_SECONDS_INCLUDED': 'Variable'},\n",
              "  {'RESOLUTION': 'Variable'},\n",
              "  {'Bin_location': 'Variable'},\n",
              "  {'TIME_BASE': 'Variable'},\n",
              "  {'TIME_SCALE': 'Variable'},\n",
              "  {'REFERENCE_POSITION': 'Variable'},\n",
              "  {'ABSOLUTE_ERROR': 'Variable'},\n",
              "  {'RELATIVE_ERROR': 'Variable'},\n",
              "  {'FORM_PTR': 'Variable'},\n",
              "  {'VIRTUAL': 'Variable'},\n",
              "  {'FUNCT': 'Variable'},\n",
              "  {'COMPONENT_0': 'Variable'},\n",
              "  {'VX': 'Variable'},\n",
              "  {'DELTA_PLUS_VAR': 'Variable'},\n",
              "  {'DELTA_MINUS_VAR': 'Variable'},\n",
              "  {'Contact': 'Global'},\n",
              "  {'Contact_email': 'Global'}],\n",
              " 'Copyright': '\\nCommon Data Format (CDF)\\n(C) Copyright 1990-2016 NASA/GSFC\\nSpace Physics Data Facility\\nNASA/Goddard Space Flight Center\\nGreenbelt, Maryland 20771 USA\\n(Internet -- GSFC-CDF-SUPPORT@LISTS.NASA.GOV)\\n',\n",
              " 'Checksum': True,\n",
              " 'Num_rdim': 0,\n",
              " 'rDim_sizes': [],\n",
              " 'Compressed': False,\n",
              " 'LeapSecondUpdated': 20170101}"
            ]
          },
          "metadata": {},
          "execution_count": 24
        }
      ]
    },
    {
      "cell_type": "code",
      "source": [
        "# Nesse caso queremos o campo magnético, B. Eles oferem nas coordenadas GSM, e GSE\n",
        "# Acredito que para essa aplicação pode ser a GSM mesmo nesse momento\n",
        "\n",
        "magnetic_field_gsm = data_cdf.varget(\"BGSM\")\n",
        "# São tres colunas, x, y e z\n",
        "magnetic_field_gsm.shape"
      ],
      "metadata": {
        "colab": {
          "base_uri": "https://localhost:8080/"
        },
        "id": "mbRhOoWjEG5s",
        "outputId": "4ff738b0-7eb9-4d58-85b8-c5665309c4a9"
      },
      "execution_count": 22,
      "outputs": [
        {
          "output_type": "execute_result",
          "data": {
            "text/plain": [
              "(937849, 3)"
            ]
          },
          "metadata": {},
          "execution_count": 22
        }
      ]
    },
    {
      "cell_type": "code",
      "source": [
        "mag_field_dataframe = pd.DataFrame(magnetic_field_gsm, columns=[\"Bx_GSM\", \"Gy_GSM\", \"Bz_GSM\"])\n",
        "\n",
        "time = data_cdf.varget(\"Epoch\")\n",
        "mag_field_dataframe[\"Epoch\"] = time"
      ],
      "metadata": {
        "id": "sn2GikpQELG0"
      },
      "execution_count": 34,
      "outputs": []
    },
    {
      "cell_type": "code",
      "source": [
        "mag_field_dataframe[\"Gy_GSM\"].plot()"
      ],
      "metadata": {
        "colab": {
          "base_uri": "https://localhost:8080/",
          "height": 283
        },
        "id": "F5EjovfEFWMs",
        "outputId": "427b5d8f-8cce-40c4-fe69-60852ff7dcdc"
      },
      "execution_count": 38,
      "outputs": [
        {
          "output_type": "execute_result",
          "data": {
            "text/plain": [
              "<matplotlib.axes._subplots.AxesSubplot at 0x7fa61148ef90>"
            ]
          },
          "metadata": {},
          "execution_count": 38
        },
        {
          "output_type": "display_data",
          "data": {
            "text/plain": [
              "<Figure size 432x288 with 1 Axes>"
            ],
            "image/png": "[encoded data removed]"
          },
          "metadata": {
            "needs_background": "light"
          }
        }
      ]
    },
    {
      "cell_type": "markdown",
      "source": [
        "Outra forma de Ler os arquivos (Acho mais Facil), é utilizando o modulo pyspedas, ele facilita o download e a leitura dos dados."
      ],
      "metadata": {
        "id": "Y0toZwl3Q03V"
      }
    },
    {
      "cell_type": "markdown",
      "source": [
        "# Magnetometer (MAG)"
      ],
      "metadata": {
        "id": "OJ32UduPR9AC"
      }
    },
    {
      "cell_type": "code",
      "source": [
        "# usando o pyspedas\n",
        "mag_vars = pyspedas.dscovr.mag(trange=['2018-11-5', '2018-11-6'])"
      ],
      "metadata": {
        "colab": {
          "base_uri": "https://localhost:8080/"
        },
        "id": "xEGb8zbFF-Sd",
        "outputId": "1af9a447-0ef0-47db-946a-b5cc3939d386"
      },
      "execution_count": 3,
      "outputs": [
        {
          "output_type": "stream",
          "name": "stderr",
          "text": [
            "WARNING:py.warnings:/usr/local/lib/python3.7/dist-packages/erfa/core.py:155: ErfaWarning: ERFA function \"dtf2d\" yielded 1 of \"dubious year (Note 6)\"\n",
            "  ErfaWarning)\n",
            "\n"
          ]
        }
      ]
    },
    {
      "cell_type": "code",
      "source": [
        "mag_vars"
      ],
      "metadata": {
        "colab": {
          "base_uri": "https://localhost:8080/"
        },
        "id": "Y8MLqRIVRGOo",
        "outputId": "17f5399e-c050-43ec-f609-2f9f6ca3225a"
      },
      "execution_count": 4,
      "outputs": [
        {
          "output_type": "execute_result",
          "data": {
            "text/plain": [
              "['dsc_h0_mag_B1F1',\n",
              " 'dsc_h0_mag_B1SDF1',\n",
              " 'dsc_h0_mag_B1GSE',\n",
              " 'dsc_h0_mag_B1SDGSE',\n",
              " 'dsc_h0_mag_B1RTN',\n",
              " 'dsc_h0_mag_B1SDRTN']"
            ]
          },
          "metadata": {},
          "execution_count": 4
        }
      ]
    },
    {
      "cell_type": "code",
      "source": [
        "# nesse caso presisamos algums passoa a mais para extrair as componentes\n",
        "# Elas sao salvas no formato do pyspedas e para o pytplot\n",
        "\n",
        "quants_Bgse = pytplot.data_quants['dsc_h0_mag_B1GSE']\n",
        "quants_Bgse"
      ],
      "metadata": {
        "colab": {
          "base_uri": "https://localhost:8080/",
          "height": 721
        },
        "id": "5uxiAbq0SOcu",
        "outputId": "3b59f0d9-1199-4b4f-9858-8c45626a331f"
      },
      "execution_count": 5,
      "outputs": [
        {
          "output_type": "execute_result",
          "data": {
            "text/plain": [
              "<xarray.DataArray 'dsc_h0_mag_B1GSE' (time: 86400, v_dim: 3)>\n",
              "array([[ 1.1943759 ,  3.0563607 ,  7.7736955 ],\n",
              "       [ 1.0060904 ,  2.9633865 ,  7.7278194 ],\n",
              "       [ 1.5659105 ,  2.4217308 ,  7.809438  ],\n",
              "       ...,\n",
              "       [-2.8408077 ,  1.3083203 , -0.23540872],\n",
              "       [-2.8605602 ,  1.3098674 , -0.27897754],\n",
              "       [-2.7993472 ,  1.322769  , -0.29635128]], dtype=float32)\n",
              "Coordinates:\n",
              "  * time     (time) float64 1.541e+09 1.541e+09 ... 1.541e+09 1.541e+09\n",
              "Dimensions without coordinates: v_dim\n",
              "Attributes:\n",
              "    CDF:           {'VATT': {'FIELDNAM': 'Magnetic field vector in GSE cartes...\n",
              "    plot_options:  {'xaxis_opt': {'axis_label': 'Time', 'crosshair': 'X', 'x_..."
            ],
            "text/html": [
              "<div><svg style=\"position: absolute; width: 0; height: 0; overflow: hidden\">\n",
              "<defs>\n",
              "<symbol id=\"icon-database\" viewBox=\"0 0 32 32\">\n",
              "<path d=\"M16 0c-8.837 0-16 2.239-16 5v4c0 2.761 7.163 5 16 5s16-2.239 16-5v-4c0-2.761-7.163-5-16-5z\"></path>\n",
              "<path d=\"M16 17c-8.837 0-16-2.239-16-5v6c0 2.761 7.163 5 16 5s16-2.239 16-5v-6c0 2.761-7.163 5-16 5z\"></path>\n",
              "<path d=\"M16 26c-8.837 0-16-2.239-16-5v6c0 2.761 7.163 5 16 5s16-2.239 16-5v-6c0 2.761-7.163 5-16 5z\"></path>\n",
              "</symbol>\n",
              "<symbol id=\"icon-file-text2\" viewBox=\"0 0 32 32\">\n",
              "<path d=\"M28.681 7.159c-0.694-0.947-1.662-2.053-2.724-3.116s-2.169-2.030-3.116-2.724c-1.612-1.182-2.393-1.319-2.841-1.319h-15.5c-1.378 0-2.5 1.121-2.5 2.5v27c0 1.378 1.122 2.5 2.5 2.5h23c1.378 0 2.5-1.122 2.5-2.5v-19.5c0-0.448-0.137-1.23-1.319-2.841zM24.543 5.457c0.959 0.959 1.712 1.825 2.268 2.543h-4.811v-4.811c0.718 0.556 1.584 1.309 2.543 2.268zM28 29.5c0 0.271-0.229 0.5-0.5 0.5h-23c-0.271 0-0.5-0.229-0.5-0.5v-27c0-0.271 0.229-0.5 0.5-0.5 0 0 15.499-0 15.5 0v7c0 0.552 0.448 1 1 1h7v19.5z\"></path>\n",
              "<path d=\"M23 26h-14c-0.552 0-1-0.448-1-1s0.448-1 1-1h14c0.552 0 1 0.448 1 1s-0.448 1-1 1z\"></path>\n",
              "<path d=\"M23 22h-14c-0.552 0-1-0.448-1-1s0.448-1 1-1h14c0.552 0 1 0.448 1 1s-0.448 1-1 1z\"></path>\n",
              "<path d=\"M23 18h-14c-0.552 0-1-0.448-1-1s0.448-1 1-1h14c0.552 0 1 0.448 1 1s-0.448 1-1 1z\"></path>\n",
              "</symbol>\n",
              "</defs>\n",
              "</svg>\n",
              "<style>/* CSS stylesheet for displaying xarray objects in jupyterlab.\n",
              " *\n",
              " */\n",
              "\n",
              ":root {\n",
              "  --xr-font-color0: var(--jp-content-font-color0, rgba(0, 0, 0, 1));\n",
              "  --xr-font-color2: var(--jp-content-font-color2, rgba(0, 0, 0, 0.54));\n",
              "  --xr-font-color3: var(--jp-content-font-color3, rgba(0, 0, 0, 0.38));\n",
              "  --xr-border-color: var(--jp-border-color2, #e0e0e0);\n",
              "  --xr-disabled-color: var(--jp-layout-color3, #bdbdbd);\n",
              "  --xr-background-color: var(--jp-layout-color0, white);\n",
              "  --xr-background-color-row-even: var(--jp-layout-color1, white);\n",
              "  --xr-background-color-row-odd: var(--jp-layout-color2, #eeeeee);\n",
              "}\n",
              "\n",
              "html[theme=dark],\n",
              "body.vscode-dark {\n",
              "  --xr-font-color0: rgba(255, 255, 255, 1);\n",
              "  --xr-font-color2: rgba(255, 255, 255, 0.54);\n",
              "  --xr-font-color3: rgba(255, 255, 255, 0.38);\n",
              "  --xr-border-color: #1F1F1F;\n",
              "  --xr-disabled-color: #515151;\n",
              "  --xr-background-color: #111111;\n",
              "  --xr-background-color-row-even: #111111;\n",
              "  --xr-background-color-row-odd: #313131;\n",
              "}\n",
              "\n",
              ".xr-wrap {\n",
              "  display: block !important;\n",
              "  min-width: 300px;\n",
              "  max-width: 700px;\n",
              "}\n",
              "\n",
              ".xr-text-repr-fallback {\n",
              "  /* fallback to plain text repr when CSS is not injected (untrusted notebook) */\n",
              "  display: none;\n",
              "}\n",
              "\n",
              ".xr-header {\n",
              "  padding-top: 6px;\n",
              "  padding-bottom: 6px;\n",
              "  margin-bottom: 4px;\n",
              "  border-bottom: solid 1px var(--xr-border-color);\n",
              "}\n",
              "\n",
              ".xr-header > div,\n",
              ".xr-header > ul {\n",
              "  display: inline;\n",
              "  margin-top: 0;\n",
              "  margin-bottom: 0;\n",
              "}\n",
              "\n",
              ".xr-obj-type,\n",
              ".xr-array-name {\n",
              "  margin-left: 2px;\n",
              "  margin-right: 10px;\n",
              "}\n",
              "\n",
              ".xr-obj-type {\n",
              "  color: var(--xr-font-color2);\n",
              "}\n",
              "\n",
              ".xr-sections {\n",
              "  padding-left: 0 !important;\n",
              "  display: grid;\n",
              "  grid-template-columns: 150px auto auto 1fr 20px 20px;\n",
              "}\n",
              "\n",
              ".xr-section-item {\n",
              "  display: contents;\n",
              "}\n",
              "\n",
              ".xr-section-item input {\n",
              "  display: none;\n",
              "}\n",
              "\n",
              ".xr-section-item input + label {\n",
              "  color: var(--xr-disabled-color);\n",
              "}\n",
              "\n",
              ".xr-section-item input:enabled + label {\n",
              "  cursor: pointer;\n",
              "  color: var(--xr-font-color2);\n",
              "}\n",
              "\n",
              ".xr-section-item input:enabled + label:hover {\n",
              "  color: var(--xr-font-color0);\n",
              "}\n",
              "\n",
              ".xr-section-summary {\n",
              "  grid-column: 1;\n",
              "  color: var(--xr-font-color2);\n",
              "  font-weight: 500;\n",
              "}\n",
              "\n",
              ".xr-section-summary > span {\n",
              "  display: inline-block;\n",
              "  padding-left: 0.5em;\n",
              "}\n",
              "\n",
              ".xr-section-summary-in:disabled + label {\n",
              "  color: var(--xr-font-color2);\n",
              "}\n",
              "\n",
              ".xr-section-summary-in + label:before {\n",
              "  display: inline-block;\n",
              "  content: '►';\n",
              "  font-size: 11px;\n",
              "  width: 15px;\n",
              "  text-align: center;\n",
              "}\n",
              "\n",
              ".xr-section-summary-in:disabled + label:before {\n",
              "  color: var(--xr-disabled-color);\n",
              "}\n",
              "\n",
              ".xr-section-summary-in:checked + label:before {\n",
              "  content: '▼';\n",
              "}\n",
              "\n",
              ".xr-section-summary-in:checked + label > span {\n",
              "  display: none;\n",
              "}\n",
              "\n",
              ".xr-section-summary,\n",
              ".xr-section-inline-details {\n",
              "  padding-top: 4px;\n",
              "  padding-bottom: 4px;\n",
              "}\n",
              "\n",
              ".xr-section-inline-details {\n",
              "  grid-column: 2 / -1;\n",
              "}\n",
              "\n",
              ".xr-section-details {\n",
              "  display: none;\n",
              "  grid-column: 1 / -1;\n",
              "  margin-bottom: 5px;\n",
              "}\n",
              "\n",
              ".xr-section-summary-in:checked ~ .xr-section-details {\n",
              "  display: contents;\n",
              "}\n",
              "\n",
              ".xr-array-wrap {\n",
              "  grid-column: 1 / -1;\n",
              "  display: grid;\n",
              "  grid-template-columns: 20px auto;\n",
              "}\n",
              "\n",
              ".xr-array-wrap > label {\n",
              "  grid-column: 1;\n",
              "  vertical-align: top;\n",
              "}\n",
              "\n",
              ".xr-preview {\n",
              "  color: var(--xr-font-color3);\n",
              "}\n",
              "\n",
              ".xr-array-preview,\n",
              ".xr-array-data {\n",
              "  padding: 0 5px !important;\n",
              "  grid-column: 2;\n",
              "}\n",
              "\n",
              ".xr-array-data,\n",
              ".xr-array-in:checked ~ .xr-array-preview {\n",
              "  display: none;\n",
              "}\n",
              "\n",
              ".xr-array-in:checked ~ .xr-array-data,\n",
              ".xr-array-preview {\n",
              "  display: inline-block;\n",
              "}\n",
              "\n",
              ".xr-dim-list {\n",
              "  display: inline-block !important;\n",
              "  list-style: none;\n",
              "  padding: 0 !important;\n",
              "  margin: 0;\n",
              "}\n",
              "\n",
              ".xr-dim-list li {\n",
              "  display: inline-block;\n",
              "  padding: 0;\n",
              "  margin: 0;\n",
              "}\n",
              "\n",
              ".xr-dim-list:before {\n",
              "  content: '(';\n",
              "}\n",
              "\n",
              ".xr-dim-list:after {\n",
              "  content: ')';\n",
              "}\n",
              "\n",
              ".xr-dim-list li:not(:last-child):after {\n",
              "  content: ',';\n",
              "  padding-right: 5px;\n",
              "}\n",
              "\n",
              ".xr-has-index {\n",
              "  font-weight: bold;\n",
              "}\n",
              "\n",
              ".xr-var-list,\n",
              ".xr-var-item {\n",
              "  display: contents;\n",
              "}\n",
              "\n",
              ".xr-var-item > div,\n",
              ".xr-var-item label,\n",
              ".xr-var-item > .xr-var-name span {\n",
              "  background-color: var(--xr-background-color-row-even);\n",
              "  margin-bottom: 0;\n",
              "}\n",
              "\n",
              ".xr-var-item > .xr-var-name:hover span {\n",
              "  padding-right: 5px;\n",
              "}\n",
              "\n",
              ".xr-var-list > li:nth-child(odd) > div,\n",
              ".xr-var-list > li:nth-child(odd) > label,\n",
              ".xr-var-list > li:nth-child(odd) > .xr-var-name span {\n",
              "  background-color: var(--xr-background-color-row-odd);\n",
              "}\n",
              "\n",
              ".xr-var-name {\n",
              "  grid-column: 1;\n",
              "}\n",
              "\n",
              ".xr-var-dims {\n",
              "  grid-column: 2;\n",
              "}\n",
              "\n",
              ".xr-var-dtype {\n",
              "  grid-column: 3;\n",
              "  text-align: right;\n",
              "  color: var(--xr-font-color2);\n",
              "}\n",
              "\n",
              ".xr-var-preview {\n",
              "  grid-column: 4;\n",
              "}\n",
              "\n",
              ".xr-var-name,\n",
              ".xr-var-dims,\n",
              ".xr-var-dtype,\n",
              ".xr-preview,\n",
              ".xr-attrs dt {\n",
              "  white-space: nowrap;\n",
              "  overflow: hidden;\n",
              "  text-overflow: ellipsis;\n",
              "  padding-right: 10px;\n",
              "}\n",
              "\n",
              ".xr-var-name:hover,\n",
              ".xr-var-dims:hover,\n",
              ".xr-var-dtype:hover,\n",
              ".xr-attrs dt:hover {\n",
              "  overflow: visible;\n",
              "  width: auto;\n",
              "  z-index: 1;\n",
              "}\n",
              "\n",
              ".xr-var-attrs,\n",
              ".xr-var-data {\n",
              "  display: none;\n",
              "  background-color: var(--xr-background-color) !important;\n",
              "  padding-bottom: 5px !important;\n",
              "}\n",
              "\n",
              ".xr-var-attrs-in:checked ~ .xr-var-attrs,\n",
              ".xr-var-data-in:checked ~ .xr-var-data {\n",
              "  display: block;\n",
              "}\n",
              "\n",
              ".xr-var-data > table {\n",
              "  float: right;\n",
              "}\n",
              "\n",
              ".xr-var-name span,\n",
              ".xr-var-data,\n",
              ".xr-attrs {\n",
              "  padding-left: 25px !important;\n",
              "}\n",
              "\n",
              ".xr-attrs,\n",
              ".xr-var-attrs,\n",
              ".xr-var-data {\n",
              "  grid-column: 1 / -1;\n",
              "}\n",
              "\n",
              "dl.xr-attrs {\n",
              "  padding: 0;\n",
              "  margin: 0;\n",
              "  display: grid;\n",
              "  grid-template-columns: 125px auto;\n",
              "}\n",
              "\n",
              ".xr-attrs dt,\n",
              ".xr-attrs dd {\n",
              "  padding: 0;\n",
              "  margin: 0;\n",
              "  float: left;\n",
              "  padding-right: 10px;\n",
              "  width: auto;\n",
              "}\n",
              "\n",
              ".xr-attrs dt {\n",
              "  font-weight: normal;\n",
              "  grid-column: 1;\n",
              "}\n",
              "\n",
              ".xr-attrs dt:hover span {\n",
              "  display: inline-block;\n",
              "  background: var(--xr-background-color);\n",
              "  padding-right: 10px;\n",
              "}\n",
              "\n",
              ".xr-attrs dd {\n",
              "  grid-column: 2;\n",
              "  white-space: pre-wrap;\n",
              "  word-break: break-all;\n",
              "}\n",
              "\n",
              ".xr-icon-database,\n",
              ".xr-icon-file-text2 {\n",
              "  display: inline-block;\n",
              "  vertical-align: middle;\n",
              "  width: 1em;\n",
              "  height: 1.5em !important;\n",
              "  stroke-width: 0;\n",
              "  stroke: currentColor;\n",
              "  fill: currentColor;\n",
              "}\n",
              "</style><pre class='xr-text-repr-fallback'>&lt;xarray.DataArray &#x27;dsc_h0_mag_B1GSE&#x27; (time: 86400, v_dim: 3)&gt;\n",
              "array([[ 1.1943759 ,  3.0563607 ,  7.7736955 ],\n",
              "       [ 1.0060904 ,  2.9633865 ,  7.7278194 ],\n",
              "       [ 1.5659105 ,  2.4217308 ,  7.809438  ],\n",
              "       ...,\n",
              "       [-2.8408077 ,  1.3083203 , -0.23540872],\n",
              "       [-2.8605602 ,  1.3098674 , -0.27897754],\n",
              "       [-2.7993472 ,  1.322769  , -0.29635128]], dtype=float32)\n",
              "Coordinates:\n",
              "  * time     (time) float64 1.541e+09 1.541e+09 ... 1.541e+09 1.541e+09\n",
              "Dimensions without coordinates: v_dim\n",
              "Attributes:\n",
              "    CDF:           {&#x27;VATT&#x27;: {&#x27;FIELDNAM&#x27;: &#x27;Magnetic field vector in GSE cartes...\n",
              "    plot_options:  {&#x27;xaxis_opt&#x27;: {&#x27;axis_label&#x27;: &#x27;Time&#x27;, &#x27;crosshair&#x27;: &#x27;X&#x27;, &#x27;x_...</pre><div class='xr-wrap' style='display:none'><div class='xr-header'><div class='xr-obj-type'>xarray.DataArray</div><div class='xr-array-name'>'dsc_h0_mag_B1GSE'</div><ul class='xr-dim-list'><li><span class='xr-has-index'>time</span>: 86400</li><li><span>v_dim</span>: 3</li></ul></div><ul class='xr-sections'><li class='xr-section-item'><div class='xr-array-wrap'><input id='section-a9b08465-0871-4b20-9bf0-ed1e3e1a3bd5' class='xr-array-in' type='checkbox' checked><label for='section-a9b08465-0871-4b20-9bf0-ed1e3e1a3bd5' title='Show/hide data repr'><svg class='icon xr-icon-database'><use xlink:href='#icon-database'></use></svg></label><div class='xr-array-preview xr-preview'><span>1.194 3.056 7.774 1.006 2.963 ... 1.31 -0.279 -2.799 1.323 -0.2964</span></div><div class='xr-array-data'><pre>array([[ 1.1943759 ,  3.0563607 ,  7.7736955 ],\n",
              "       [ 1.0060904 ,  2.9633865 ,  7.7278194 ],\n",
              "       [ 1.5659105 ,  2.4217308 ,  7.809438  ],\n",
              "       ...,\n",
              "       [-2.8408077 ,  1.3083203 , -0.23540872],\n",
              "       [-2.8605602 ,  1.3098674 , -0.27897754],\n",
              "       [-2.7993472 ,  1.322769  , -0.29635128]], dtype=float32)</pre></div></div></li><li class='xr-section-item'><input id='section-8c498b82-e151-4d63-978e-0cb06d35c8a7' class='xr-section-summary-in' type='checkbox'  checked><label for='section-8c498b82-e151-4d63-978e-0cb06d35c8a7' class='xr-section-summary' >Coordinates: <span>(1)</span></label><div class='xr-section-inline-details'></div><div class='xr-section-details'><ul class='xr-var-list'><li class='xr-var-item'><div class='xr-var-name'><span class='xr-has-index'>time</span></div><div class='xr-var-dims'>(time)</div><div class='xr-var-dtype'>float64</div><div class='xr-var-preview xr-preview'>1.541e+09 1.541e+09 ... 1.541e+09</div><input id='attrs-a9799162-8873-47f9-82b4-1dcdbabdd6f5' class='xr-var-attrs-in' type='checkbox' disabled><label for='attrs-a9799162-8873-47f9-82b4-1dcdbabdd6f5' title='Show/Hide attributes'><svg class='icon xr-icon-file-text2'><use xlink:href='#icon-file-text2'></use></svg></label><input id='data-25cd4228-2c08-43da-99b3-e4919fa536d7' class='xr-var-data-in' type='checkbox'><label for='data-25cd4228-2c08-43da-99b3-e4919fa536d7' title='Show/Hide data repr'><svg class='icon xr-icon-database'><use xlink:href='#icon-database'></use></svg></label><div class='xr-var-attrs'><dl class='xr-attrs'></dl></div><div class='xr-var-data'><pre>array([1.541376e+09, 1.541376e+09, 1.541376e+09, ..., 1.541462e+09,\n",
              "       1.541462e+09, 1.541462e+09])</pre></div></li></ul></div></li><li class='xr-section-item'><input id='section-468a8a3a-90e2-43e8-8a27-eba1e335a4ef' class='xr-section-summary-in' type='checkbox'  checked><label for='section-468a8a3a-90e2-43e8-8a27-eba1e335a4ef' class='xr-section-summary' >Attributes: <span>(2)</span></label><div class='xr-section-inline-details'></div><div class='xr-section-details'><dl class='xr-attrs'><dt><span>CDF :</span></dt><dd>{&#x27;VATT&#x27;: {&#x27;FIELDNAM&#x27;: &#x27;Magnetic field vector in GSE cartesian coordinates (1 sec)&#x27;, &#x27;VALIDMIN&#x27;: array([-65534., -65534., -65534.], dtype=float32), &#x27;VALIDMAX&#x27;: array([65534., 65534., 65534.], dtype=float32), &#x27;SCALEMIN&#x27;: array([-9.722863, -9.974269, -9.833372], dtype=float32), &#x27;SCALEMAX&#x27;: array([ 6.7002983, 11.4531555, 13.337982 ], dtype=float32), &#x27;UNITS&#x27;: &#x27;nT&#x27;, &#x27;FORMAT&#x27;: &#x27;E13.6&#x27;, &#x27;MONOTON&#x27;: &#x27;FALSE&#x27;, &#x27;SCALETYP&#x27;: &#x27;LINEAR&#x27;, &#x27;CATDESC&#x27;: &#x27;Magnetic field vector in GSE cartesian coordinates (1 sec)&#x27;, &#x27;FILLVAL&#x27;: -1e+31, &#x27;LABL_PTR_1&#x27;: &#x27;label_bgse&#x27;, &#x27;DEPEND_0&#x27;: &#x27;Epoch1&#x27;, &#x27;VAR_TYPE&#x27;: &#x27;data&#x27;, &#x27;DISPLAY_TYPE&#x27;: &#x27;time_series&#x27;, &#x27;TIME_RES&#x27;: &#x27;1 sec&#x27;}, &#x27;GATT&#x27;: {&#x27;Project&#x27;: &#x27;DSCOVR&gt;Deep Space Climate Observatory&#x27;, &#x27;Discipline&#x27;: &#x27;Space Physics&gt;Heliospheric Science&#x27;, &#x27;Source_name&#x27;: &#x27;DSCOVR&gt;Deep Space Climate Observatory&#x27;, &#x27;Software_version&#x27;: &#x27;V01.00&#x27;, &#x27;Data_type&#x27;: &#x27;H0&gt;1-sec Definitive Data&#x27;, &#x27;Descriptor&#x27;: &#x27;MAG&gt;Fluxgate Magnetometer&#x27;, &#x27;Data_version&#x27;: &#x27;1&#x27;, &#x27;TITLE&#x27;: &#x27;DSCOVR Fluxgate Magnetometer 1-sec Definitive Data&#x27;, &#x27;TEXT&#x27;: &#x27;DSCOVR Fluxgate Magnetometer 1-sec Definitive Data                              &#x27;, &#x27;MODS&#x27;: &#x27;12/01/2016 Initial release&#x27;, &#x27;Logical_file_id&#x27;: &#x27;dscovr_h0_mag_20181105_v01&#x27;, &#x27;Logical_source&#x27;: &#x27;dscovr_h0_mag&#x27;, &#x27;Logical_source_description&#x27;: &#x27;DSCOVR Fluxgate Magnetometer 1-sec Definitive Data&#x27;, &#x27;File_naming_convention&#x27;: &#x27;source_datatype_descriptor_yyyyMMdd&#x27;, &#x27;Processing_date&#x27;: &#x27;Mon Feb  4 20:49:40 2019 UTC&#x27;, &#x27;PI_name&#x27;: &#x27;A. Koval&#x27;, &#x27;PI_affiliation&#x27;: &#x27;UMBC, NASA/GSFC&#x27;, &#x27;Mission_group&#x27;: &#x27;DSCOVR&#x27;, &#x27;Instrument_type&#x27;: &#x27;Magnetic Fields (space)&#x27;, &#x27;TEXT_supplement_1&#x27;: &#x27; &#x27;, &#x27;Web_sites&#x27;: &#x27; &#x27;}, &#x27;FILENAME&#x27;: &#x27;dscovr_data/h0/mag/2018/dscovr_h0_mag_20181105_v01.cdf&#x27;}</dd><dt><span>plot_options :</span></dt><dd>{&#x27;xaxis_opt&#x27;: {&#x27;axis_label&#x27;: &#x27;Time&#x27;, &#x27;crosshair&#x27;: &#x27;X&#x27;, &#x27;x_axis_type&#x27;: &#x27;linear&#x27;}, &#x27;yaxis_opt&#x27;: {&#x27;axis_label&#x27;: &#x27;dsc_h0_mag_B1GSE&#x27;, &#x27;crosshair&#x27;: &#x27;Y&#x27;, &#x27;y_axis_type&#x27;: &#x27;linear&#x27;, &#x27;y_range&#x27;: [-9.974269, 13.337982], &#x27;axis_subtitle&#x27;: &#x27;[nT]&#x27;}, &#x27;zaxis_opt&#x27;: {&#x27;axis_label&#x27;: &#x27;Z-Axis&#x27;, &#x27;crosshair&#x27;: &#x27;Z&#x27;, &#x27;z_axis_type&#x27;: &#x27;linear&#x27;}, &#x27;line_opt&#x27;: {}, &#x27;trange&#x27;: [1541376000.5, 1541462399.5], &#x27;time_bar&#x27;: [], &#x27;extras&#x27;: {&#x27;panel_size&#x27;: 1, &#x27;char_size&#x27;: 10, &#x27;border&#x27;: True}, &#x27;create_time&#x27;: datetime.datetime(2022, 10, 1, 2, 32, 48, 652080), &#x27;links&#x27;: {}, &#x27;spec_bins_ascending&#x27;: None, &#x27;overplots&#x27;: [], &#x27;interactive_xaxis_opt&#x27;: {}, &#x27;interactive_yaxis_opt&#x27;: {}, &#x27;error&#x27;: None}</dd></dl></div></li></ul></div></div>"
            ]
          },
          "metadata": {},
          "execution_count": 5
        }
      ]
    },
    {
      "cell_type": "code",
      "source": [
        "# bx, by, bz\n",
        "b_gsm = quants_Bgse.values\n",
        "time = quants_Bgse.coords['time'].values\n",
        "time_dt_b = [datetime.datetime.fromtimestamp(i, pytz.timezone(\"UTC\")) for i in time]"
      ],
      "metadata": {
        "id": "-7MzPM1LSbgy"
      },
      "execution_count": 6,
      "outputs": []
    },
    {
      "cell_type": "code",
      "source": [
        "dataframe_gse = pd.DataFrame(b_gsm, columns=[\"Bx_GSE\", \"Gy_GSE\", \"Bz_GSE\"], index = time_dt_b)\n",
        "dataframe_gse.head()"
      ],
      "metadata": {
        "colab": {
          "base_uri": "https://localhost:8080/",
          "height": 206
        },
        "id": "TLkicJJySsML",
        "outputId": "ca44f8d1-f118-4a14-cfc8-da3ad5b7756a"
      },
      "execution_count": 7,
      "outputs": [
        {
          "output_type": "execute_result",
          "data": {
            "text/plain": [
              "                                    Bx_GSE    Gy_GSE    Bz_GSE\n",
              "2018-11-05 00:00:00.500000+00:00  1.194376  3.056361  7.773695\n",
              "2018-11-05 00:00:01.500000+00:00  1.006090  2.963387  7.727819\n",
              "2018-11-05 00:00:02.500000+00:00  1.565910  2.421731  7.809438\n",
              "2018-11-05 00:00:03.500000+00:00  1.852083  2.311245  7.771448\n",
              "2018-11-05 00:00:04.500000+00:00  1.205482  2.037003  7.789549"
            ],
            "text/html": [
              "\n",
              "  <div id=\"df-6692de9e-a0da-4939-9008-47c56c57ac2b\">\n",
              "    <div class=\"colab-df-container\">\n",
              "      <div>\n",
              "<style scoped>\n",
              "    .dataframe tbody tr th:only-of-type {\n",
              "        vertical-align: middle;\n",
              "    }\n",
              "\n",
              "    .dataframe tbody tr th {\n",
              "        vertical-align: top;\n",
              "    }\n",
              "\n",
              "    .dataframe thead th {\n",
              "        text-align: right;\n",
              "    }\n",
              "</style>\n",
              "<table border=\"1\" class=\"dataframe\">\n",
              "  <thead>\n",
              "    <tr style=\"text-align: right;\">\n",
              "      <th></th>\n",
              "      <th>Bx_GSE</th>\n",
              "      <th>Gy_GSE</th>\n",
              "      <th>Bz_GSE</th>\n",
              "    </tr>\n",
              "  </thead>\n",
              "  <tbody>\n",
              "    <tr>\n",
              "      <th>2018-11-05 00:00:00.500000+00:00</th>\n",
              "      <td>1.194376</td>\n",
              "      <td>3.056361</td>\n",
              "      <td>7.773695</td>\n",
              "    </tr>\n",
              "    <tr>\n",
              "      <th>2018-11-05 00:00:01.500000+00:00</th>\n",
              "      <td>1.006090</td>\n",
              "      <td>2.963387</td>\n",
              "      <td>7.727819</td>\n",
              "    </tr>\n",
              "    <tr>\n",
              "      <th>2018-11-05 00:00:02.500000+00:00</th>\n",
              "      <td>1.565910</td>\n",
              "      <td>2.421731</td>\n",
              "      <td>7.809438</td>\n",
              "    </tr>\n",
              "    <tr>\n",
              "      <th>2018-11-05 00:00:03.500000+00:00</th>\n",
              "      <td>1.852083</td>\n",
              "      <td>2.311245</td>\n",
              "      <td>7.771448</td>\n",
              "    </tr>\n",
              "    <tr>\n",
              "      <th>2018-11-05 00:00:04.500000+00:00</th>\n",
              "      <td>1.205482</td>\n",
              "      <td>2.037003</td>\n",
              "      <td>7.789549</td>\n",
              "    </tr>\n",
              "  </tbody>\n",
              "</table>\n",
              "</div>\n",
              "      <button class=\"colab-df-convert\" onclick=\"convertToInteractive('df-6692de9e-a0da-4939-9008-47c56c57ac2b')\"\n",
              "              title=\"Convert this dataframe to an interactive table.\"\n",
              "              style=\"display:none;\">\n",
              "        \n",
              "  <svg xmlns=\"http://www.w3.org/2000/svg\" height=\"24px\"viewBox=\"0 0 24 24\"\n",
              "       width=\"24px\">\n",
              "    <path d=\"M0 0h24v24H0V0z\" fill=\"none\"/>\n",
              "    <path d=\"M18.56 5.44l.94 2.06.94-2.06 2.06-.94-2.06-.94-.94-2.06-.94 2.06-2.06.94zm-11 1L8.5 8.5l.94-2.06 2.06-.94-2.06-.94L8.5 2.5l-.94 2.06-2.06.94zm10 10l.94 2.06.94-2.06 2.06-.94-2.06-.94-.94-2.06-.94 2.06-2.06.94z\"/><path d=\"M17.41 7.96l-1.37-1.37c-.4-.4-.92-.59-1.43-.59-.52 0-1.04.2-1.43.59L10.3 9.45l-7.72 7.72c-.78.78-.78 2.05 0 2.83L4 21.41c.39.39.9.59 1.41.59.51 0 1.02-.2 1.41-.59l7.78-7.78 2.81-2.81c.8-.78.8-2.07 0-2.86zM5.41 20L4 18.59l7.72-7.72 1.47 1.35L5.41 20z\"/>\n",
              "  </svg>\n",
              "      </button>\n",
              "      \n",
              "  <style>\n",
              "    .colab-df-container {\n",
              "      display:flex;\n",
              "      flex-wrap:wrap;\n",
              "      gap: 12px;\n",
              "    }\n",
              "\n",
              "    .colab-df-convert {\n",
              "      background-color: #E8F0FE;\n",
              "      border: none;\n",
              "      border-radius: 50%;\n",
              "      cursor: pointer;\n",
              "      display: none;\n",
              "      fill: #1967D2;\n",
              "      height: 32px;\n",
              "      padding: 0 0 0 0;\n",
              "      width: 32px;\n",
              "    }\n",
              "\n",
              "    .colab-df-convert:hover {\n",
              "      background-color: #E2EBFA;\n",
              "      box-shadow: 0px 1px 2px rgba(60, 64, 67, 0.3), 0px 1px 3px 1px rgba(60, 64, 67, 0.15);\n",
              "      fill: #174EA6;\n",
              "    }\n",
              "\n",
              "    [theme=dark] .colab-df-convert {\n",
              "      background-color: #3B4455;\n",
              "      fill: #D2E3FC;\n",
              "    }\n",
              "\n",
              "    [theme=dark] .colab-df-convert:hover {\n",
              "      background-color: #434B5C;\n",
              "      box-shadow: 0px 1px 3px 1px rgba(0, 0, 0, 0.15);\n",
              "      filter: drop-shadow(0px 1px 2px rgba(0, 0, 0, 0.3));\n",
              "      fill: #FFFFFF;\n",
              "    }\n",
              "  </style>\n",
              "\n",
              "      <script>\n",
              "        const buttonEl =\n",
              "          document.querySelector('#df-6692de9e-a0da-4939-9008-47c56c57ac2b button.colab-df-convert');\n",
              "        buttonEl.style.display =\n",
              "          google.colab.kernel.accessAllowed ? 'block' : 'none';\n",
              "\n",
              "        async function convertToInteractive(key) {\n",
              "          const element = document.querySelector('#df-6692de9e-a0da-4939-9008-47c56c57ac2b');\n",
              "          const dataTable =\n",
              "            await google.colab.kernel.invokeFunction('convertToInteractive',\n",
              "                                                     [key], {});\n",
              "          if (!dataTable) return;\n",
              "\n",
              "          const docLinkHtml = 'Like what you see? Visit the ' +\n",
              "            '<a target=\"_blank\" href=https://colab.research.google.com/notebooks/data_table.ipynb>data table notebook</a>'\n",
              "            + ' to learn more about interactive tables.';\n",
              "          element.innerHTML = '';\n",
              "          dataTable['output_type'] = 'display_data';\n",
              "          await google.colab.output.renderOutput(dataTable, element);\n",
              "          const docLink = document.createElement('div');\n",
              "          docLink.innerHTML = docLinkHtml;\n",
              "          element.appendChild(docLink);\n",
              "        }\n",
              "      </script>\n",
              "    </div>\n",
              "  </div>\n",
              "  "
            ]
          },
          "metadata": {},
          "execution_count": 7
        }
      ]
    },
    {
      "cell_type": "markdown",
      "source": [
        "# Faraday Cup (FC)"
      ],
      "metadata": {
        "id": "eGuZAhUDSEl2"
      }
    },
    {
      "cell_type": "code",
      "source": [
        "pytplot.del_data()\n",
        "fc_vars = pyspedas.dscovr.fc(trange=['2018-11-5', '2018-11-6'])"
      ],
      "metadata": {
        "id": "bscF_32ASDOJ"
      },
      "execution_count": 17,
      "outputs": []
    },
    {
      "cell_type": "code",
      "source": [
        "fc_vars"
      ],
      "metadata": {
        "colab": {
          "base_uri": "https://localhost:8080/"
        },
        "id": "0tgtyQLKbV5o",
        "outputId": "d13df583-9000-4539-cdf8-85fe4103e3a7"
      },
      "execution_count": 18,
      "outputs": [
        {
          "output_type": "execute_result",
          "data": {
            "text/plain": [
              "['dsc_h1_fc_V_GSE',\n",
              " 'dsc_h1_fc_THERMAL_SPD',\n",
              " 'dsc_h1_fc_Np',\n",
              " 'dsc_h1_fc_THERMAL_TEMP']"
            ]
          },
          "metadata": {},
          "execution_count": 18
        }
      ]
    },
    {
      "cell_type": "code",
      "source": [
        "quants_Vgse = pytplot.data_quants['dsc_h1_fc_V_GSE']\n",
        "quants_thermalSpeed = pytplot.data_quants['dsc_h1_fc_THERMAL_SPD']\n",
        "quants_Np = pytplot.data_quants['dsc_h1_fc_Np']\n",
        "quants_thermalTemp = pytplot.data_quants['dsc_h1_fc_THERMAL_TEMP']\n",
        "\n",
        "time_fc = quants_Vgse.coords['time'].values\n",
        "time_fc_dt = [datetime.datetime.fromtimestamp(i, pytz.timezone(\"UTC\")) for i in time_fc]\n",
        "# tplot(['dsc_h1_fc_V_GSE', 'dsc_h1_fc_THERMAL_SPD', 'dsc_h1_fc_Np', 'dsc_h1_fc_THERMAL_TEMP'])"
      ],
      "metadata": {
        "id": "7h47kMRsRwiv"
      },
      "execution_count": 9,
      "outputs": []
    },
    {
      "cell_type": "code",
      "source": [
        "dataframe_fc = pd.DataFrame({\"dsc_h1_fc_Vx_GSE\":quants_Vgse[:,0], \n",
        "                             \"dsc_h1_fc_Vy_GSE\":quants_Vgse[:,1],\n",
        "                             \"dsc_h1_fc_Vz_GSE\":quants_Vgse[:,2],\n",
        "                             \"dsc_h1_fc_THERMAL_SPD\":quants_thermalSpeed.values, \n",
        "                             \"dsc_h1_fc_Np\":quants_Np.values, \n",
        "                             'dsc_h1_fc_THERMAL_TEMP':quants_thermalTemp.values}, index = time_fc_dt)\n",
        "dataframe_fc.head()"
      ],
      "metadata": {
        "colab": {
          "base_uri": "https://localhost:8080/",
          "height": 337
        },
        "id": "GwAD4NuYTWFd",
        "outputId": "f79eaf43-17d1-4863-d5ca-1d182dadbf4a"
      },
      "execution_count": 10,
      "outputs": [
        {
          "output_type": "execute_result",
          "data": {
            "text/plain": [
              "                           dsc_h1_fc_Vx_GSE  dsc_h1_fc_Vy_GSE  \\\n",
              "2018-11-05 00:00:00+00:00       -473.958740         11.917868   \n",
              "2018-11-05 00:01:01+00:00       -476.043488         10.830706   \n",
              "2018-11-05 00:02:01+00:00       -476.112701          1.879187   \n",
              "2018-11-05 00:02:59+00:00       -476.207031          9.003065   \n",
              "2018-11-05 00:04:00+00:00       -474.836334         12.154074   \n",
              "\n",
              "                           dsc_h1_fc_Vz_GSE  dsc_h1_fc_THERMAL_SPD  \\\n",
              "2018-11-05 00:00:00+00:00         21.795387              68.390205   \n",
              "2018-11-05 00:01:01+00:00         19.726019              68.216896   \n",
              "2018-11-05 00:02:01+00:00         18.163383              67.262222   \n",
              "2018-11-05 00:02:59+00:00         22.759775              67.437187   \n",
              "2018-11-05 00:04:00+00:00         26.012655              67.979271   \n",
              "\n",
              "                           dsc_h1_fc_Np  dsc_h1_fc_THERMAL_TEMP  \n",
              "2018-11-05 00:00:00+00:00      7.510447            283316.81250  \n",
              "2018-11-05 00:01:01+00:00      7.552746            281882.71875  \n",
              "2018-11-05 00:02:01+00:00      7.682232            274048.18750  \n",
              "2018-11-05 00:02:59+00:00      7.538317            275475.75000  \n",
              "2018-11-05 00:04:00+00:00      7.299348            279922.34375  "
            ],
            "text/html": [
              "\n",
              "  <div id=\"df-72c8b239-11f4-42c1-9913-2cd8b3b4c24b\">\n",
              "    <div class=\"colab-df-container\">\n",
              "      <div>\n",
              "<style scoped>\n",
              "    .dataframe tbody tr th:only-of-type {\n",
              "        vertical-align: middle;\n",
              "    }\n",
              "\n",
              "    .dataframe tbody tr th {\n",
              "        vertical-align: top;\n",
              "    }\n",
              "\n",
              "    .dataframe thead th {\n",
              "        text-align: right;\n",
              "    }\n",
              "</style>\n",
              "<table border=\"1\" class=\"dataframe\">\n",
              "  <thead>\n",
              "    <tr style=\"text-align: right;\">\n",
              "      <th></th>\n",
              "      <th>dsc_h1_fc_Vx_GSE</th>\n",
              "      <th>dsc_h1_fc_Vy_GSE</th>\n",
              "      <th>dsc_h1_fc_Vz_GSE</th>\n",
              "      <th>dsc_h1_fc_THERMAL_SPD</th>\n",
              "      <th>dsc_h1_fc_Np</th>\n",
              "      <th>dsc_h1_fc_THERMAL_TEMP</th>\n",
              "    </tr>\n",
              "  </thead>\n",
              "  <tbody>\n",
              "    <tr>\n",
              "      <th>2018-11-05 00:00:00+00:00</th>\n",
              "      <td>-473.958740</td>\n",
              "      <td>11.917868</td>\n",
              "      <td>21.795387</td>\n",
              "      <td>68.390205</td>\n",
              "      <td>7.510447</td>\n",
              "      <td>283316.81250</td>\n",
              "    </tr>\n",
              "    <tr>\n",
              "      <th>2018-11-05 00:01:01+00:00</th>\n",
              "      <td>-476.043488</td>\n",
              "      <td>10.830706</td>\n",
              "      <td>19.726019</td>\n",
              "      <td>68.216896</td>\n",
              "      <td>7.552746</td>\n",
              "      <td>281882.71875</td>\n",
              "    </tr>\n",
              "    <tr>\n",
              "      <th>2018-11-05 00:02:01+00:00</th>\n",
              "      <td>-476.112701</td>\n",
              "      <td>1.879187</td>\n",
              "      <td>18.163383</td>\n",
              "      <td>67.262222</td>\n",
              "      <td>7.682232</td>\n",
              "      <td>274048.18750</td>\n",
              "    </tr>\n",
              "    <tr>\n",
              "      <th>2018-11-05 00:02:59+00:00</th>\n",
              "      <td>-476.207031</td>\n",
              "      <td>9.003065</td>\n",
              "      <td>22.759775</td>\n",
              "      <td>67.437187</td>\n",
              "      <td>7.538317</td>\n",
              "      <td>275475.75000</td>\n",
              "    </tr>\n",
              "    <tr>\n",
              "      <th>2018-11-05 00:04:00+00:00</th>\n",
              "      <td>-474.836334</td>\n",
              "      <td>12.154074</td>\n",
              "      <td>26.012655</td>\n",
              "      <td>67.979271</td>\n",
              "      <td>7.299348</td>\n",
              "      <td>279922.34375</td>\n",
              "    </tr>\n",
              "  </tbody>\n",
              "</table>\n",
              "</div>\n",
              "      <button class=\"colab-df-convert\" onclick=\"convertToInteractive('df-72c8b239-11f4-42c1-9913-2cd8b3b4c24b')\"\n",
              "              title=\"Convert this dataframe to an interactive table.\"\n",
              "              style=\"display:none;\">\n",
              "        \n",
              "  <svg xmlns=\"http://www.w3.org/2000/svg\" height=\"24px\"viewBox=\"0 0 24 24\"\n",
              "       width=\"24px\">\n",
              "    <path d=\"M0 0h24v24H0V0z\" fill=\"none\"/>\n",
              "    <path d=\"M18.56 5.44l.94 2.06.94-2.06 2.06-.94-2.06-.94-.94-2.06-.94 2.06-2.06.94zm-11 1L8.5 8.5l.94-2.06 2.06-.94-2.06-.94L8.5 2.5l-.94 2.06-2.06.94zm10 10l.94 2.06.94-2.06 2.06-.94-2.06-.94-.94-2.06-.94 2.06-2.06.94z\"/><path d=\"M17.41 7.96l-1.37-1.37c-.4-.4-.92-.59-1.43-.59-.52 0-1.04.2-1.43.59L10.3 9.45l-7.72 7.72c-.78.78-.78 2.05 0 2.83L4 21.41c.39.39.9.59 1.41.59.51 0 1.02-.2 1.41-.59l7.78-7.78 2.81-2.81c.8-.78.8-2.07 0-2.86zM5.41 20L4 18.59l7.72-7.72 1.47 1.35L5.41 20z\"/>\n",
              "  </svg>\n",
              "      </button>\n",
              "      \n",
              "  <style>\n",
              "    .colab-df-container {\n",
              "      display:flex;\n",
              "      flex-wrap:wrap;\n",
              "      gap: 12px;\n",
              "    }\n",
              "\n",
              "    .colab-df-convert {\n",
              "      background-color: #E8F0FE;\n",
              "      border: none;\n",
              "      border-radius: 50%;\n",
              "      cursor: pointer;\n",
              "      display: none;\n",
              "      fill: #1967D2;\n",
              "      height: 32px;\n",
              "      padding: 0 0 0 0;\n",
              "      width: 32px;\n",
              "    }\n",
              "\n",
              "    .colab-df-convert:hover {\n",
              "      background-color: #E2EBFA;\n",
              "      box-shadow: 0px 1px 2px rgba(60, 64, 67, 0.3), 0px 1px 3px 1px rgba(60, 64, 67, 0.15);\n",
              "      fill: #174EA6;\n",
              "    }\n",
              "\n",
              "    [theme=dark] .colab-df-convert {\n",
              "      background-color: #3B4455;\n",
              "      fill: #D2E3FC;\n",
              "    }\n",
              "\n",
              "    [theme=dark] .colab-df-convert:hover {\n",
              "      background-color: #434B5C;\n",
              "      box-shadow: 0px 1px 3px 1px rgba(0, 0, 0, 0.15);\n",
              "      filter: drop-shadow(0px 1px 2px rgba(0, 0, 0, 0.3));\n",
              "      fill: #FFFFFF;\n",
              "    }\n",
              "  </style>\n",
              "\n",
              "      <script>\n",
              "        const buttonEl =\n",
              "          document.querySelector('#df-72c8b239-11f4-42c1-9913-2cd8b3b4c24b button.colab-df-convert');\n",
              "        buttonEl.style.display =\n",
              "          google.colab.kernel.accessAllowed ? 'block' : 'none';\n",
              "\n",
              "        async function convertToInteractive(key) {\n",
              "          const element = document.querySelector('#df-72c8b239-11f4-42c1-9913-2cd8b3b4c24b');\n",
              "          const dataTable =\n",
              "            await google.colab.kernel.invokeFunction('convertToInteractive',\n",
              "                                                     [key], {});\n",
              "          if (!dataTable) return;\n",
              "\n",
              "          const docLinkHtml = 'Like what you see? Visit the ' +\n",
              "            '<a target=\"_blank\" href=https://colab.research.google.com/notebooks/data_table.ipynb>data table notebook</a>'\n",
              "            + ' to learn more about interactive tables.';\n",
              "          element.innerHTML = '';\n",
              "          dataTable['output_type'] = 'display_data';\n",
              "          await google.colab.output.renderOutput(dataTable, element);\n",
              "          const docLink = document.createElement('div');\n",
              "          docLink.innerHTML = docLinkHtml;\n",
              "          element.appendChild(docLink);\n",
              "        }\n",
              "      </script>\n",
              "    </div>\n",
              "  </div>\n",
              "  "
            ]
          },
          "metadata": {},
          "execution_count": 10
        }
      ]
    },
    {
      "cell_type": "code",
      "source": [
        "dataframe_fc[\"dsc_h1_fc_THERMAL_SPD\"].plot()"
      ],
      "metadata": {
        "colab": {
          "base_uri": "https://localhost:8080/",
          "height": 283
        },
        "id": "KS6BPgNYbZ2V",
        "outputId": "6c4b8468-dc11-4c06-cfbe-583315038063"
      },
      "execution_count": 19,
      "outputs": [
        {
          "output_type": "execute_result",
          "data": {
            "text/plain": [
              "<AxesSubplot:>"
            ]
          },
          "metadata": {},
          "execution_count": 19
        },
        {
          "output_type": "display_data",
          "data": {
            "text/plain": [
              "<Figure size 432x288 with 1 Axes>"
            ],
            "image/png": "[encoded data removed]"
          },
          "metadata": {
            "needs_background": "light"
          }
        }
      ]
    },
    {
      "cell_type": "markdown",
      "source": [
        "# Wind Satellite\n",
        "## Magnetic Field Investigation (MFI)"
      ],
      "metadata": {
        "id": "hky5YWSUVRF4"
      }
    },
    {
      "cell_type": "code",
      "source": [
        "mfi_vars = pyspedas.wind.mfi(trange=['2018-11-5', '2018-11-6'])\n",
        "mfi_Bgse = pytplot.data_quants['BGSE']\n",
        "\n",
        "time = mfi_Bgse.coords['time'].values\n",
        "time_dt_b_mfi = [datetime.datetime.fromtimestamp(i, pytz.timezone(\"UTC\")) for i in time]\n",
        "\n",
        "mfi_df = pd.DataFrame({\"Bx_GSE\": mfi_Bgse.values[:,0],\n",
        "                       \"By_GSE\": mfi_Bgse.values[:,0],\n",
        "                       \"Bz_GSE\": mfi_Bgse.values[:,0]}, index = time_dt_b_mfi)"
      ],
      "metadata": {
        "id": "J0KUWAVYUtx0"
      },
      "execution_count": 12,
      "outputs": []
    },
    {
      "cell_type": "markdown",
      "source": [
        "## Solar Wind Experiment (SWE)"
      ],
      "metadata": {
        "id": "LjD0VQUnWJQW"
      }
    },
    {
      "cell_type": "code",
      "source": [
        "pytplot.del_data()\n",
        "swe_vars = pyspedas.wind.swe(trange=['2018-11-5', '2018-11-6'])\n",
        "swe_Ne = pytplot.data_quants['N_elec']\n",
        "swe_Te = pytplot.data_quants['T_elec']"
      ],
      "metadata": {
        "id": "LMZHfc1ZWEcr"
      },
      "execution_count": 13,
      "outputs": []
    },
    {
      "cell_type": "markdown",
      "source": [
        "# Teste DTW"
      ],
      "metadata": {
        "id": "dzb-4f64YHAt"
      }
    },
    {
      "cell_type": "code",
      "source": [
        "%%capture\n",
        "\n",
        "!pip install dtaidistance"
      ],
      "metadata": {
        "id": "5cyTI7YHYLCX"
      },
      "execution_count": 14,
      "outputs": []
    },
    {
      "cell_type": "code",
      "source": [
        "from dtaidistance import dtw\n",
        "from dtaidistance import dtw_visualisation as dtwvis"
      ],
      "metadata": {
        "id": "QS5yCdI9YIFu"
      },
      "execution_count": 15,
      "outputs": []
    },
    {
      "cell_type": "code",
      "source": [
        "s1 = mfi_df[\"Bx_GSE\"].head(100).values\n",
        "s2 = dataframe_gse[\"Bx_GSE\"].head(100).values\n",
        "path = dtw.warping_path(s1, s2)\n",
        "dtwvis.plot_warping(s1, s2, path, filename=\"warp.png\")"
      ],
      "metadata": {
        "colab": {
          "base_uri": "https://localhost:8080/"
        },
        "id": "KTnwU3YZYIoP",
        "outputId": "5340b99b-8e05-48f0-b2d4-5d0ac53f8ef1"
      },
      "execution_count": 25,
      "outputs": [
        {
          "output_type": "execute_result",
          "data": {
            "text/plain": [
              "(None, None)"
            ]
          },
          "metadata": {},
          "execution_count": 25
        }
      ]
    },
    {
      "cell_type": "code",
      "source": [
        "from dtaidistance import dtw_visualisation as dtwvis\n",
        "d, paths = dtw.warping_paths(s1, s2, window=25, psi=2)\n",
        "best_path = dtw.best_path(paths)\n",
        "dtwvis.plot_warpingpaths(s1, s2, paths, best_path)"
      ],
      "metadata": {
        "colab": {
          "base_uri": "https://localhost:8080/",
          "height": 767
        },
        "id": "XegYz-KSZQh-",
        "outputId": "c973dd90-d831-4b00-b200-77da1aca481b"
      },
      "execution_count": 27,
      "outputs": [
        {
          "output_type": "execute_result",
          "data": {
            "text/plain": [
              "(<Figure size 720x720 with 4 Axes>,\n",
              " [<AxesSubplot:>, <AxesSubplot:>, <AxesSubplot:>, <AxesSubplot:>])"
            ]
          },
          "metadata": {},
          "execution_count": 27
        },
        {
          "output_type": "display_data",
          "data": {
            "text/plain": [
              "<Figure size 720x720 with 4 Axes>"
            ],
            "image/png": "[encoded data removed]"
          },
          "metadata": {
            "needs_background": "light"
          }
        }
      ]
    },
    {
      "cell_type": "code",
      "source": [
        "s1"
      ],
      "metadata": {
        "colab": {
          "base_uri": "https://localhost:8080/"
        },
        "id": "O8djz0hGeLL6",
        "outputId": "dd6126e2-07c6-41a6-d5b7-3a11be609bbb"
      },
      "execution_count": 26,
      "outputs": [
        {
          "output_type": "execute_result",
          "data": {
            "text/plain": [
              "array([-7.55968332e+00, -7.51835346e+00, -7.90006113e+00, -7.65223598e+00,\n",
              "       -7.39746380e+00, -7.72069502e+00, -8.11626816e+00, -8.51545143e+00,\n",
              "       -8.37839794e+00, -8.93793488e+00, -8.76086617e+00, -8.73664856e+00,\n",
              "       -9.33683586e+00, -9.60250568e+00, -9.79607868e+00, -9.91475773e+00,\n",
              "       -1.00095396e+01, -1.00606995e+01, -1.06308537e+01, -1.09334230e+01,\n",
              "       -1.09952250e+01, -1.08384809e+01, -1.06478710e+01, -1.07634144e+01,\n",
              "       -1.09677267e+01, -1.09884233e+01, -1.10754614e+01, -1.09897385e+01,\n",
              "       -1.07882462e+01, -1.06725101e+01, -1.05914640e+01, -1.01941185e+01,\n",
              "       -1.01203079e+01, -9.83770561e+00, -8.88265610e+00, -7.90033913e+00,\n",
              "       -7.19047785e+00, -7.23651218e+00, -6.75686216e+00, -6.18648863e+00,\n",
              "       -6.09587193e+00, -3.26336980e+00, -3.54002976e+00, -3.21698856e+00,\n",
              "       -2.04176712e+00, -3.74936152e+00, -3.81721282e+00, -2.25434446e+00,\n",
              "       -1.71997440e+00, -1.34027731e+00, -1.77484035e+00, -1.46395767e+00,\n",
              "       -1.71614635e+00, -6.77008748e-01, -1.05368340e+00, -2.91205239e+00,\n",
              "       -4.60040236e+00, -5.39649630e+00, -4.83717871e+00, -2.53537011e+00,\n",
              "       -2.60398865e+00, -3.38862205e+00, -3.43397522e+00, -4.37389517e+00,\n",
              "       -6.64003134e-01, -8.06194842e-02, -1.49078771e-01,  1.46872401e-02,\n",
              "       -2.86218226e-01, -1.27325666e+00, -1.66669452e+00, -5.10730553e+00,\n",
              "       -3.00901151e+00, -1.26000082e+00, -2.20451498e+00, -1.95142686e-01,\n",
              "       -1.27727449e-01,  3.42416286e-01,  1.74727118e+00,  2.31830049e+00,\n",
              "        1.86089790e+00,  1.80960906e+00,  1.71306825e+00,  1.30275023e+00,\n",
              "        1.59393573e+00,  9.80442584e-01,  9.34095144e-01,  5.53008437e-01,\n",
              "       -1.82855621e-01, -6.30552530e-01, -1.52117085e+00, -1.41990829e+00,\n",
              "        5.28251767e-01, -4.75569675e-03, -1.39434338e-01, -7.26973832e-01,\n",
              "       -1.38115382e+00,  1.48841774e+00, -3.08873844e+00, -1.85835493e+00],\n",
              "      dtype=float32)"
            ]
          },
          "metadata": {},
          "execution_count": 26
        }
      ]
    },
    {
      "cell_type": "code",
      "source": [],
      "metadata": {
        "id": "5wyPN7TIeLzO"
      },
      "execution_count": null,
      "outputs": []
    }
  ]
}