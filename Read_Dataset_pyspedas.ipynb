{
  "cells": [
    {
      "cell_type": "markdown",
      "metadata": {
        "colab_type": "text",
        "id": "view-in-github"
      },
      "source": [
        "<a href=\"https://colab.research.google.com/github/maetthil/NASASpaceApps/blob/main/Read_Dataset.ipynb\" target=\"_parent\"><img src=\"https://colab.research.google.com/assets/colab-badge.svg\" alt=\"Open In Colab\"/></a>"
      ]
    },
    {
      "cell_type": "code",
      "execution_count": 1,
      "metadata": {
        "id": "iSi2R7CfEDMl"
      },
      "outputs": [],
      "source": [
        "# # %%capture\n",
        "# !pip install cdflib\n",
        "# !pip install pyspedas\n",
        "# !pip install matplotlib==3.1.2"
      ]
    },
    {
      "cell_type": "code",
      "execution_count": 6,
      "metadata": {
        "id": "M8k7JUZjWCaB"
      },
      "outputs": [],
      "source": [
        "import glob\n",
        "import sys\n",
        "import os\n",
        "import re\n",
        "import requests\n",
        "import numpy as np\n",
        "import pytz\n",
        "import datetime\n",
        "import pandas as pd\n",
        "from tqdm import tqdm\n",
        "\n",
        "import pyspedas\n",
        "from pytplot import tplot\n",
        "import pytplot\n",
        "\n",
        "import matplotlib.pyplot as plt"
      ]
    },
    {
      "cell_type": "markdown",
      "metadata": {},
      "source": [
        "\n",
        "## Magnetic Field"
      ]
    },
    {
      "cell_type": "code",
      "execution_count": null,
      "metadata": {},
      "outputs": [],
      "source": [
        "def getMagneticField(satellite=\"wind\", trange=['2018-01-01', '2018-01-10']):\n",
        "    pytplot.del_data()\n",
        "    if satellite == \"wind\":\n",
        "        vars = pyspedas.wind.mfi(trange=trange)\n",
        "        quants_mag = pytplot.data_quants['BGSE']\n",
        "        mag = quants_mag.values\n",
        "\n",
        "        \n",
        "\n",
        "    else:\n",
        "        mag = pyspedas.dscovr.mag(trange=trange)\n",
        "        quants_mag = pytplot.data_quants['dsc_h0_mag_B1GSE']\n",
        "        mag = quants_mag.values\n",
        "        mag[mag == -1e+31] = np.nan\n",
        "\n",
        "    \n",
        "\n",
        "    time_mag = quants_mag.coords['time'].values\n",
        "    time_mag = [datetime.datetime.fromtimestamp(i, pytz.timezone(\"UTC\")) for i in time_mag]\n",
        "\n",
        "    df_mag = pd.DataFrame({\"Bx_GSE\": mag[:,0], \n",
        "                            \"By_GSE\": mag[:,1],\n",
        "                            \"Bz_GSE\": mag[:,2]}, index = time_mag)\n",
        "    \n",
        "    return df_mag"
      ]
    },
    {
      "cell_type": "markdown",
      "metadata": {},
      "source": [
        "## Ion Plasma"
      ]
    },
    {
      "cell_type": "code",
      "execution_count": null,
      "metadata": {},
      "outputs": [],
      "source": [
        "def getIonPlasma(satellite=\"wind\", trange=['2018-01-01', '2018-01-10']):\n",
        "    pytplot.del_data()\n",
        "    if satellite == \"wind\":\n",
        "        vars = pyspedas.wind.swe(trange=trange)\n",
        "        quants_vGSE = pytplot.data_quants['U_eGSE']\n",
        "        quants_therSp = pytplot.data_quants['T_elec']\n",
        "        quants_Np = pytplot.data_quants['N_elec']\n",
        "\n",
        "        vGSE = quants_vGSE.values\n",
        "        therSp = quants_therSp.values\n",
        "        Np = quants_Np.values\n",
        "\n",
        "        \n",
        "\n",
        "    else:\n",
        "        vars = pyspedas.dscovr.fc(trange=trange)\n",
        "\n",
        "        quants_vGSE = pytplot.data_quants['dsc_h1_fc_V_GSE']\n",
        "        quants_therSp = pytplot.data_quants['dsc_h1_fc_THERMAL_SPD']\n",
        "        quants_Np = pytplot.data_quants['dsc_h1_fc_Np']\n",
        "\n",
        "        vGSE = quants_vGSE.values\n",
        "        therSp = quants_therSp.values\n",
        "        Np = quants_Np.values\n",
        "\n",
        "        vGSE[vGSE == -1e+31] = np.nan\n",
        "        therSp[therSp == -1e+31] = np.nan\n",
        "        Np[Np == -1e+31] = np.nan\n",
        "\n",
        "    \n",
        "\n",
        "    time_fc = quants_vGSE.coords['time'].values\n",
        "    time_fc = [datetime.datetime.fromtimestamp(i, pytz.timezone(\"UTC\")) for i in time_fc]\n",
        "\n",
        "    df_ions = pd.DataFrame({\"Vx_GSE\": vGSE[:,0], \n",
        "                             \"Vy_GSE\": vGSE[:,1],\n",
        "                             \"Vz_GSE\": vGSE[:,2],\n",
        "                             \"Therm_spd\": therSp,\n",
        "                             \"Np\":Np }, index = time_fc)\n",
        "    \n",
        "    return df_ions"
      ]
    },
    {
      "cell_type": "code",
      "execution_count": 39,
      "metadata": {},
      "outputs": [
        {
          "name": "stderr",
          "output_type": "stream",
          "text": [
            "01-Oct-22 17:17:05: Downloading remote index: https://spdf.gsfc.nasa.gov/pub/data/dscovr/h1/faraday_cup/2018/\n",
            "01-Oct-22 17:17:05: File is current: dscovr_data/h1/faraday_cup/2018/dscovr_h1_fc_20180101_v08.cdf\n",
            "01-Oct-22 17:17:06: File is current: dscovr_data/h1/faraday_cup/2018/dscovr_h1_fc_20180102_v08.cdf\n",
            "01-Oct-22 17:17:06: File is current: dscovr_data/h1/faraday_cup/2018/dscovr_h1_fc_20180103_v08.cdf\n",
            "01-Oct-22 17:17:06: File is current: dscovr_data/h1/faraday_cup/2018/dscovr_h1_fc_20180105_v08.cdf\n",
            "01-Oct-22 17:17:06: File is current: dscovr_data/h1/faraday_cup/2018/dscovr_h1_fc_20180106_v08.cdf\n",
            "01-Oct-22 17:17:06: File is current: dscovr_data/h1/faraday_cup/2018/dscovr_h1_fc_20180107_v08.cdf\n",
            "01-Oct-22 17:17:06: File is current: dscovr_data/h1/faraday_cup/2018/dscovr_h1_fc_20180108_v08.cdf\n",
            "01-Oct-22 17:17:07: File is current: dscovr_data/h1/faraday_cup/2018/dscovr_h1_fc_20180109_v08.cdf\n"
          ]
        },
        {
          "data": {
            "text/html": [
              "<div>\n",
              "<style scoped>\n",
              "    .dataframe tbody tr th:only-of-type {\n",
              "        vertical-align: middle;\n",
              "    }\n",
              "\n",
              "    .dataframe tbody tr th {\n",
              "        vertical-align: top;\n",
              "    }\n",
              "\n",
              "    .dataframe thead th {\n",
              "        text-align: right;\n",
              "    }\n",
              "</style>\n",
              "<table border=\"1\" class=\"dataframe\">\n",
              "  <thead>\n",
              "    <tr style=\"text-align: right;\">\n",
              "      <th></th>\n",
              "      <th>Vx_GSE</th>\n",
              "      <th>Vy_GSE</th>\n",
              "      <th>Vz_GSE</th>\n",
              "      <th>Therm_spd</th>\n",
              "      <th>Np</th>\n",
              "    </tr>\n",
              "  </thead>\n",
              "  <tbody>\n",
              "    <tr>\n",
              "      <th>2018-01-01 00:00:00+00:00</th>\n",
              "      <td>-403.007935</td>\n",
              "      <td>-12.879808</td>\n",
              "      <td>-25.402237</td>\n",
              "      <td>39.441380</td>\n",
              "      <td>14.758022</td>\n",
              "    </tr>\n",
              "    <tr>\n",
              "      <th>2018-01-01 00:01:00+00:00</th>\n",
              "      <td>-403.619720</td>\n",
              "      <td>-16.166252</td>\n",
              "      <td>-26.591558</td>\n",
              "      <td>38.992432</td>\n",
              "      <td>14.678254</td>\n",
              "    </tr>\n",
              "    <tr>\n",
              "      <th>2018-01-01 00:02:00+00:00</th>\n",
              "      <td>-405.910919</td>\n",
              "      <td>-14.688877</td>\n",
              "      <td>-29.482092</td>\n",
              "      <td>36.989517</td>\n",
              "      <td>14.709406</td>\n",
              "    </tr>\n",
              "    <tr>\n",
              "      <th>2018-01-01 00:03:00+00:00</th>\n",
              "      <td>-404.753052</td>\n",
              "      <td>-13.926281</td>\n",
              "      <td>-30.157286</td>\n",
              "      <td>36.591244</td>\n",
              "      <td>14.661954</td>\n",
              "    </tr>\n",
              "    <tr>\n",
              "      <th>2018-01-01 00:04:00+00:00</th>\n",
              "      <td>-403.666260</td>\n",
              "      <td>-13.622793</td>\n",
              "      <td>-28.274202</td>\n",
              "      <td>36.837086</td>\n",
              "      <td>14.399885</td>\n",
              "    </tr>\n",
              "  </tbody>\n",
              "</table>\n",
              "</div>"
            ],
            "text/plain": [
              "                               Vx_GSE     Vy_GSE     Vz_GSE  Therm_spd  \\\n",
              "2018-01-01 00:00:00+00:00 -403.007935 -12.879808 -25.402237  39.441380   \n",
              "2018-01-01 00:01:00+00:00 -403.619720 -16.166252 -26.591558  38.992432   \n",
              "2018-01-01 00:02:00+00:00 -405.910919 -14.688877 -29.482092  36.989517   \n",
              "2018-01-01 00:03:00+00:00 -404.753052 -13.926281 -30.157286  36.591244   \n",
              "2018-01-01 00:04:00+00:00 -403.666260 -13.622793 -28.274202  36.837086   \n",
              "\n",
              "                                  Np  \n",
              "2018-01-01 00:00:00+00:00  14.758022  \n",
              "2018-01-01 00:01:00+00:00  14.678254  \n",
              "2018-01-01 00:02:00+00:00  14.709406  \n",
              "2018-01-01 00:03:00+00:00  14.661954  \n",
              "2018-01-01 00:04:00+00:00  14.399885  "
            ]
          },
          "execution_count": 39,
          "metadata": {},
          "output_type": "execute_result"
        }
      ],
      "source": [
        "ions = getIonPlasma(satellite=\"dscovr\", trange=['2018-01-01', '2018-01-10'])\n",
        "ions.head()"
      ]
    },
    {
      "cell_type": "code",
      "execution_count": 38,
      "metadata": {},
      "outputs": [
        {
          "name": "stderr",
          "output_type": "stream",
          "text": [
            "01-Oct-22 17:17:00: Downloading remote index: https://spdf.gsfc.nasa.gov/pub/data/dscovr/h0/mag/2018/\n",
            "01-Oct-22 17:17:01: File is current: dscovr_data/h0/mag/2018/dscovr_h0_mag_20180101_v01.cdf\n",
            "01-Oct-22 17:17:01: File is current: dscovr_data/h0/mag/2018/dscovr_h0_mag_20180102_v01.cdf\n",
            "01-Oct-22 17:17:01: File is current: dscovr_data/h0/mag/2018/dscovr_h0_mag_20180103_v01.cdf\n",
            "01-Oct-22 17:17:01: File is current: dscovr_data/h0/mag/2018/dscovr_h0_mag_20180104_v01.cdf\n",
            "01-Oct-22 17:17:01: File is current: dscovr_data/h0/mag/2018/dscovr_h0_mag_20180105_v01.cdf\n",
            "01-Oct-22 17:17:01: File is current: dscovr_data/h0/mag/2018/dscovr_h0_mag_20180106_v01.cdf\n",
            "01-Oct-22 17:17:01: File is current: dscovr_data/h0/mag/2018/dscovr_h0_mag_20180107_v01.cdf\n",
            "01-Oct-22 17:17:02: File is current: dscovr_data/h0/mag/2018/dscovr_h0_mag_20180108_v01.cdf\n",
            "01-Oct-22 17:17:02: File is current: dscovr_data/h0/mag/2018/dscovr_h0_mag_20180109_v01.cdf\n"
          ]
        },
        {
          "data": {
            "text/html": [
              "<div>\n",
              "<style scoped>\n",
              "    .dataframe tbody tr th:only-of-type {\n",
              "        vertical-align: middle;\n",
              "    }\n",
              "\n",
              "    .dataframe tbody tr th {\n",
              "        vertical-align: top;\n",
              "    }\n",
              "\n",
              "    .dataframe thead th {\n",
              "        text-align: right;\n",
              "    }\n",
              "</style>\n",
              "<table border=\"1\" class=\"dataframe\">\n",
              "  <thead>\n",
              "    <tr style=\"text-align: right;\">\n",
              "      <th></th>\n",
              "      <th>Bx_GSE</th>\n",
              "      <th>By_GSE</th>\n",
              "      <th>Bz_GSE</th>\n",
              "    </tr>\n",
              "  </thead>\n",
              "  <tbody>\n",
              "    <tr>\n",
              "      <th>2018-01-01 00:00:00.500000+00:00</th>\n",
              "      <td>5.837182</td>\n",
              "      <td>2.314090</td>\n",
              "      <td>-7.158201</td>\n",
              "    </tr>\n",
              "    <tr>\n",
              "      <th>2018-01-01 00:00:01.500000+00:00</th>\n",
              "      <td>5.899103</td>\n",
              "      <td>2.184921</td>\n",
              "      <td>-7.075517</td>\n",
              "    </tr>\n",
              "    <tr>\n",
              "      <th>2018-01-01 00:00:02.500000+00:00</th>\n",
              "      <td>6.042387</td>\n",
              "      <td>2.221216</td>\n",
              "      <td>-7.145005</td>\n",
              "    </tr>\n",
              "    <tr>\n",
              "      <th>2018-01-01 00:00:03.500000+00:00</th>\n",
              "      <td>5.720763</td>\n",
              "      <td>2.225209</td>\n",
              "      <td>-6.768812</td>\n",
              "    </tr>\n",
              "    <tr>\n",
              "      <th>2018-01-01 00:00:04.500000+00:00</th>\n",
              "      <td>5.578448</td>\n",
              "      <td>2.175153</td>\n",
              "      <td>-6.790361</td>\n",
              "    </tr>\n",
              "  </tbody>\n",
              "</table>\n",
              "</div>"
            ],
            "text/plain": [
              "                                    Bx_GSE    By_GSE    Bz_GSE\n",
              "2018-01-01 00:00:00.500000+00:00  5.837182  2.314090 -7.158201\n",
              "2018-01-01 00:00:01.500000+00:00  5.899103  2.184921 -7.075517\n",
              "2018-01-01 00:00:02.500000+00:00  6.042387  2.221216 -7.145005\n",
              "2018-01-01 00:00:03.500000+00:00  5.720763  2.225209 -6.768812\n",
              "2018-01-01 00:00:04.500000+00:00  5.578448  2.175153 -6.790361"
            ]
          },
          "execution_count": 38,
          "metadata": {},
          "output_type": "execute_result"
        }
      ],
      "source": [
        "mag = getMagneticField(satellite=\"dscovr\", trange=['2018-01-01', '2018-01-10'])\n",
        "mag.head()"
      ]
    },
    {
      "cell_type": "code",
      "execution_count": null,
      "metadata": {},
      "outputs": [],
      "source": []
    }
  ],
  "metadata": {
    "colab": {
      "collapsed_sections": [],
      "include_colab_link": true,
      "provenance": []
    },
    "kernelspec": {
      "display_name": "Python 3.9.13 ('spaceData')",
      "language": "python",
      "name": "python3"
    },
    "language_info": {
      "codemirror_mode": {
        "name": "ipython",
        "version": 3
      },
      "file_extension": ".py",
      "mimetype": "text/x-python",
      "name": "python",
      "nbconvert_exporter": "python",
      "pygments_lexer": "ipython3",
      "version": "3.9.13"
    },
    "vscode": {
      "interpreter": {
        "hash": "7c6085bd5e91c7a12d809552c91998260825b9a7e8ca1e477c55f781c04711b7"
      }
    }
  },
  "nbformat": 4,
  "nbformat_minor": 0
}
