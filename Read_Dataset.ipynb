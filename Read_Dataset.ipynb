{
  "nbformat": 4,
  "nbformat_minor": 0,
  "metadata": {
    "colab": {
      "provenance": [],
      "collapsed_sections": [],
      "include_colab_link": true
    },
    "kernelspec": {
      "name": "python3",
      "display_name": "Python 3"
    },
    "language_info": {
      "name": "python"
    },
    "widgets": {
      "application/vnd.jupyter.widget-state+json": {
        "750d4d517b2f472f83c88580de2bbcd0": {
          "model_module": "@jupyter-widgets/controls",
          "model_name": "HBoxModel",
          "model_module_version": "1.5.0",
          "state": {
            "_dom_classes": [],
            "_model_module": "@jupyter-widgets/controls",
            "_model_module_version": "1.5.0",
            "_model_name": "HBoxModel",
            "_view_count": null,
            "_view_module": "@jupyter-widgets/controls",
            "_view_module_version": "1.5.0",
            "_view_name": "HBoxView",
            "box_style": "",
            "children": [
              "IPY_MODEL_605c24b3f1d74870b3c58acd029d22c1",
              "IPY_MODEL_a56d10c2250445ff9aa6ce39d5ac9847",
              "IPY_MODEL_12d75f39ecdd40598c4bcf119383c862"
            ],
            "layout": "IPY_MODEL_6f96934276854c429f400353b423575b"
          }
        },
        "605c24b3f1d74870b3c58acd029d22c1": {
          "model_module": "@jupyter-widgets/controls",
          "model_name": "HTMLModel",
          "model_module_version": "1.5.0",
          "state": {
            "_dom_classes": [],
            "_model_module": "@jupyter-widgets/controls",
            "_model_module_version": "1.5.0",
            "_model_name": "HTMLModel",
            "_view_count": null,
            "_view_module": "@jupyter-widgets/controls",
            "_view_module_version": "1.5.0",
            "_view_name": "HTMLView",
            "description": "",
            "description_tooltip": null,
            "layout": "IPY_MODEL_e8e2d53fc5b647d3a092183fbd553bd1",
            "placeholder": "​",
            "style": "IPY_MODEL_a548cf72e2a24ab4895784e74acc737c",
            "value": "  5%"
          }
        },
        "a56d10c2250445ff9aa6ce39d5ac9847": {
          "model_module": "@jupyter-widgets/controls",
          "model_name": "FloatProgressModel",
          "model_module_version": "1.5.0",
          "state": {
            "_dom_classes": [],
            "_model_module": "@jupyter-widgets/controls",
            "_model_module_version": "1.5.0",
            "_model_name": "FloatProgressModel",
            "_view_count": null,
            "_view_module": "@jupyter-widgets/controls",
            "_view_module_version": "1.5.0",
            "_view_name": "ProgressView",
            "bar_style": "danger",
            "description": "",
            "description_tooltip": null,
            "layout": "IPY_MODEL_b30edcc963f74752b1320994fab91df7",
            "max": 264,
            "min": 0,
            "orientation": "horizontal",
            "style": "IPY_MODEL_ea36cc40db8e46cfab752182203bac57",
            "value": 14
          }
        },
        "12d75f39ecdd40598c4bcf119383c862": {
          "model_module": "@jupyter-widgets/controls",
          "model_name": "HTMLModel",
          "model_module_version": "1.5.0",
          "state": {
            "_dom_classes": [],
            "_model_module": "@jupyter-widgets/controls",
            "_model_module_version": "1.5.0",
            "_model_name": "HTMLModel",
            "_view_count": null,
            "_view_module": "@jupyter-widgets/controls",
            "_view_module_version": "1.5.0",
            "_view_name": "HTMLView",
            "description": "",
            "description_tooltip": null,
            "layout": "IPY_MODEL_60f96cb466814a51b7a3d6d6058246a9",
            "placeholder": "​",
            "style": "IPY_MODEL_c791e5efffa74196b8121a7dbdaf5ac3",
            "value": " 14/264 [00:31&lt;14:08,  3.39s/it]"
          }
        },
        "6f96934276854c429f400353b423575b": {
          "model_module": "@jupyter-widgets/base",
          "model_name": "LayoutModel",
          "model_module_version": "1.2.0",
          "state": {
            "_model_module": "@jupyter-widgets/base",
            "_model_module_version": "1.2.0",
            "_model_name": "LayoutModel",
            "_view_count": null,
            "_view_module": "@jupyter-widgets/base",
            "_view_module_version": "1.2.0",
            "_view_name": "LayoutView",
            "align_content": null,
            "align_items": null,
            "align_self": null,
            "border": null,
            "bottom": null,
            "display": null,
            "flex": null,
            "flex_flow": null,
            "grid_area": null,
            "grid_auto_columns": null,
            "grid_auto_flow": null,
            "grid_auto_rows": null,
            "grid_column": null,
            "grid_gap": null,
            "grid_row": null,
            "grid_template_areas": null,
            "grid_template_columns": null,
            "grid_template_rows": null,
            "height": null,
            "justify_content": null,
            "justify_items": null,
            "left": null,
            "margin": null,
            "max_height": null,
            "max_width": null,
            "min_height": null,
            "min_width": null,
            "object_fit": null,
            "object_position": null,
            "order": null,
            "overflow": null,
            "overflow_x": null,
            "overflow_y": null,
            "padding": null,
            "right": null,
            "top": null,
            "visibility": null,
            "width": null
          }
        },
        "e8e2d53fc5b647d3a092183fbd553bd1": {
          "model_module": "@jupyter-widgets/base",
          "model_name": "LayoutModel",
          "model_module_version": "1.2.0",
          "state": {
            "_model_module": "@jupyter-widgets/base",
            "_model_module_version": "1.2.0",
            "_model_name": "LayoutModel",
            "_view_count": null,
            "_view_module": "@jupyter-widgets/base",
            "_view_module_version": "1.2.0",
            "_view_name": "LayoutView",
            "align_content": null,
            "align_items": null,
            "align_self": null,
            "border": null,
            "bottom": null,
            "display": null,
            "flex": null,
            "flex_flow": null,
            "grid_area": null,
            "grid_auto_columns": null,
            "grid_auto_flow": null,
            "grid_auto_rows": null,
            "grid_column": null,
            "grid_gap": null,
            "grid_row": null,
            "grid_template_areas": null,
            "grid_template_columns": null,
            "grid_template_rows": null,
            "height": null,
            "justify_content": null,
            "justify_items": null,
            "left": null,
            "margin": null,
            "max_height": null,
            "max_width": null,
            "min_height": null,
            "min_width": null,
            "object_fit": null,
            "object_position": null,
            "order": null,
            "overflow": null,
            "overflow_x": null,
            "overflow_y": null,
            "padding": null,
            "right": null,
            "top": null,
            "visibility": null,
            "width": null
          }
        },
        "a548cf72e2a24ab4895784e74acc737c": {
          "model_module": "@jupyter-widgets/controls",
          "model_name": "DescriptionStyleModel",
          "model_module_version": "1.5.0",
          "state": {
            "_model_module": "@jupyter-widgets/controls",
            "_model_module_version": "1.5.0",
            "_model_name": "DescriptionStyleModel",
            "_view_count": null,
            "_view_module": "@jupyter-widgets/base",
            "_view_module_version": "1.2.0",
            "_view_name": "StyleView",
            "description_width": ""
          }
        },
        "b30edcc963f74752b1320994fab91df7": {
          "model_module": "@jupyter-widgets/base",
          "model_name": "LayoutModel",
          "model_module_version": "1.2.0",
          "state": {
            "_model_module": "@jupyter-widgets/base",
            "_model_module_version": "1.2.0",
            "_model_name": "LayoutModel",
            "_view_count": null,
            "_view_module": "@jupyter-widgets/base",
            "_view_module_version": "1.2.0",
            "_view_name": "LayoutView",
            "align_content": null,
            "align_items": null,
            "align_self": null,
            "border": null,
            "bottom": null,
            "display": null,
            "flex": null,
            "flex_flow": null,
            "grid_area": null,
            "grid_auto_columns": null,
            "grid_auto_flow": null,
            "grid_auto_rows": null,
            "grid_column": null,
            "grid_gap": null,
            "grid_row": null,
            "grid_template_areas": null,
            "grid_template_columns": null,
            "grid_template_rows": null,
            "height": null,
            "justify_content": null,
            "justify_items": null,
            "left": null,
            "margin": null,
            "max_height": null,
            "max_width": null,
            "min_height": null,
            "min_width": null,
            "object_fit": null,
            "object_position": null,
            "order": null,
            "overflow": null,
            "overflow_x": null,
            "overflow_y": null,
            "padding": null,
            "right": null,
            "top": null,
            "visibility": null,
            "width": null
          }
        },
        "ea36cc40db8e46cfab752182203bac57": {
          "model_module": "@jupyter-widgets/controls",
          "model_name": "ProgressStyleModel",
          "model_module_version": "1.5.0",
          "state": {
            "_model_module": "@jupyter-widgets/controls",
            "_model_module_version": "1.5.0",
            "_model_name": "ProgressStyleModel",
            "_view_count": null,
            "_view_module": "@jupyter-widgets/base",
            "_view_module_version": "1.2.0",
            "_view_name": "StyleView",
            "bar_color": null,
            "description_width": ""
          }
        },
        "60f96cb466814a51b7a3d6d6058246a9": {
          "model_module": "@jupyter-widgets/base",
          "model_name": "LayoutModel",
          "model_module_version": "1.2.0",
          "state": {
            "_model_module": "@jupyter-widgets/base",
            "_model_module_version": "1.2.0",
            "_model_name": "LayoutModel",
            "_view_count": null,
            "_view_module": "@jupyter-widgets/base",
            "_view_module_version": "1.2.0",
            "_view_name": "LayoutView",
            "align_content": null,
            "align_items": null,
            "align_self": null,
            "border": null,
            "bottom": null,
            "display": null,
            "flex": null,
            "flex_flow": null,
            "grid_area": null,
            "grid_auto_columns": null,
            "grid_auto_flow": null,
            "grid_auto_rows": null,
            "grid_column": null,
            "grid_gap": null,
            "grid_row": null,
            "grid_template_areas": null,
            "grid_template_columns": null,
            "grid_template_rows": null,
            "height": null,
            "justify_content": null,
            "justify_items": null,
            "left": null,
            "margin": null,
            "max_height": null,
            "max_width": null,
            "min_height": null,
            "min_width": null,
            "object_fit": null,
            "object_position": null,
            "order": null,
            "overflow": null,
            "overflow_x": null,
            "overflow_y": null,
            "padding": null,
            "right": null,
            "top": null,
            "visibility": null,
            "width": null
          }
        },
        "c791e5efffa74196b8121a7dbdaf5ac3": {
          "model_module": "@jupyter-widgets/controls",
          "model_name": "DescriptionStyleModel",
          "model_module_version": "1.5.0",
          "state": {
            "_model_module": "@jupyter-widgets/controls",
            "_model_module_version": "1.5.0",
            "_model_name": "DescriptionStyleModel",
            "_view_count": null,
            "_view_module": "@jupyter-widgets/base",
            "_view_module_version": "1.2.0",
            "_view_name": "StyleView",
            "description_width": ""
          }
        },
        "c05c58ad1a4c4081963bf6ebe6970cec": {
          "model_module": "@jupyter-widgets/controls",
          "model_name": "HBoxModel",
          "model_module_version": "1.5.0",
          "state": {
            "_dom_classes": [],
            "_model_module": "@jupyter-widgets/controls",
            "_model_module_version": "1.5.0",
            "_model_name": "HBoxModel",
            "_view_count": null,
            "_view_module": "@jupyter-widgets/controls",
            "_view_module_version": "1.5.0",
            "_view_name": "HBoxView",
            "box_style": "",
            "children": [
              "IPY_MODEL_ca6fa9a5ebd542338391b608f7ebc8f6",
              "IPY_MODEL_bf8ace63ac054b319489f15ac804470d",
              "IPY_MODEL_c156451ca41d4be8b60aaeb73e822961"
            ],
            "layout": "IPY_MODEL_f1615fb5809f4154936e6d975979ffdc"
          }
        },
        "ca6fa9a5ebd542338391b608f7ebc8f6": {
          "model_module": "@jupyter-widgets/controls",
          "model_name": "HTMLModel",
          "model_module_version": "1.5.0",
          "state": {
            "_dom_classes": [],
            "_model_module": "@jupyter-widgets/controls",
            "_model_module_version": "1.5.0",
            "_model_name": "HTMLModel",
            "_view_count": null,
            "_view_module": "@jupyter-widgets/controls",
            "_view_module_version": "1.5.0",
            "_view_name": "HTMLView",
            "description": "",
            "description_tooltip": null,
            "layout": "IPY_MODEL_5ece514f30e2482fba792ad02c3a07e5",
            "placeholder": "​",
            "style": "IPY_MODEL_eefea8c2f2094db79745ccbeb28726ad",
            "value": "  5%"
          }
        },
        "bf8ace63ac054b319489f15ac804470d": {
          "model_module": "@jupyter-widgets/controls",
          "model_name": "FloatProgressModel",
          "model_module_version": "1.5.0",
          "state": {
            "_dom_classes": [],
            "_model_module": "@jupyter-widgets/controls",
            "_model_module_version": "1.5.0",
            "_model_name": "FloatProgressModel",
            "_view_count": null,
            "_view_module": "@jupyter-widgets/controls",
            "_view_module_version": "1.5.0",
            "_view_name": "ProgressView",
            "bar_style": "danger",
            "description": "",
            "description_tooltip": null,
            "layout": "IPY_MODEL_06d9ae5149574f9ab04651658285ecfa",
            "max": 264,
            "min": 0,
            "orientation": "horizontal",
            "style": "IPY_MODEL_9bd6910657764497b06a027a87cabb57",
            "value": 14
          }
        },
        "c156451ca41d4be8b60aaeb73e822961": {
          "model_module": "@jupyter-widgets/controls",
          "model_name": "HTMLModel",
          "model_module_version": "1.5.0",
          "state": {
            "_dom_classes": [],
            "_model_module": "@jupyter-widgets/controls",
            "_model_module_version": "1.5.0",
            "_model_name": "HTMLModel",
            "_view_count": null,
            "_view_module": "@jupyter-widgets/controls",
            "_view_module_version": "1.5.0",
            "_view_name": "HTMLView",
            "description": "",
            "description_tooltip": null,
            "layout": "IPY_MODEL_376cadf6a6064fd3a04e88fd1c9e1891",
            "placeholder": "​",
            "style": "IPY_MODEL_0ed5f8c15f8f49eeb98850f770f7b1da",
            "value": " 14/264 [00:11&lt;04:18,  1.04s/it]"
          }
        },
        "f1615fb5809f4154936e6d975979ffdc": {
          "model_module": "@jupyter-widgets/base",
          "model_name": "LayoutModel",
          "model_module_version": "1.2.0",
          "state": {
            "_model_module": "@jupyter-widgets/base",
            "_model_module_version": "1.2.0",
            "_model_name": "LayoutModel",
            "_view_count": null,
            "_view_module": "@jupyter-widgets/base",
            "_view_module_version": "1.2.0",
            "_view_name": "LayoutView",
            "align_content": null,
            "align_items": null,
            "align_self": null,
            "border": null,
            "bottom": null,
            "display": null,
            "flex": null,
            "flex_flow": null,
            "grid_area": null,
            "grid_auto_columns": null,
            "grid_auto_flow": null,
            "grid_auto_rows": null,
            "grid_column": null,
            "grid_gap": null,
            "grid_row": null,
            "grid_template_areas": null,
            "grid_template_columns": null,
            "grid_template_rows": null,
            "height": null,
            "justify_content": null,
            "justify_items": null,
            "left": null,
            "margin": null,
            "max_height": null,
            "max_width": null,
            "min_height": null,
            "min_width": null,
            "object_fit": null,
            "object_position": null,
            "order": null,
            "overflow": null,
            "overflow_x": null,
            "overflow_y": null,
            "padding": null,
            "right": null,
            "top": null,
            "visibility": null,
            "width": null
          }
        },
        "5ece514f30e2482fba792ad02c3a07e5": {
          "model_module": "@jupyter-widgets/base",
          "model_name": "LayoutModel",
          "model_module_version": "1.2.0",
          "state": {
            "_model_module": "@jupyter-widgets/base",
            "_model_module_version": "1.2.0",
            "_model_name": "LayoutModel",
            "_view_count": null,
            "_view_module": "@jupyter-widgets/base",
            "_view_module_version": "1.2.0",
            "_view_name": "LayoutView",
            "align_content": null,
            "align_items": null,
            "align_self": null,
            "border": null,
            "bottom": null,
            "display": null,
            "flex": null,
            "flex_flow": null,
            "grid_area": null,
            "grid_auto_columns": null,
            "grid_auto_flow": null,
            "grid_auto_rows": null,
            "grid_column": null,
            "grid_gap": null,
            "grid_row": null,
            "grid_template_areas": null,
            "grid_template_columns": null,
            "grid_template_rows": null,
            "height": null,
            "justify_content": null,
            "justify_items": null,
            "left": null,
            "margin": null,
            "max_height": null,
            "max_width": null,
            "min_height": null,
            "min_width": null,
            "object_fit": null,
            "object_position": null,
            "order": null,
            "overflow": null,
            "overflow_x": null,
            "overflow_y": null,
            "padding": null,
            "right": null,
            "top": null,
            "visibility": null,
            "width": null
          }
        },
        "eefea8c2f2094db79745ccbeb28726ad": {
          "model_module": "@jupyter-widgets/controls",
          "model_name": "DescriptionStyleModel",
          "model_module_version": "1.5.0",
          "state": {
            "_model_module": "@jupyter-widgets/controls",
            "_model_module_version": "1.5.0",
            "_model_name": "DescriptionStyleModel",
            "_view_count": null,
            "_view_module": "@jupyter-widgets/base",
            "_view_module_version": "1.2.0",
            "_view_name": "StyleView",
            "description_width": ""
          }
        },
        "06d9ae5149574f9ab04651658285ecfa": {
          "model_module": "@jupyter-widgets/base",
          "model_name": "LayoutModel",
          "model_module_version": "1.2.0",
          "state": {
            "_model_module": "@jupyter-widgets/base",
            "_model_module_version": "1.2.0",
            "_model_name": "LayoutModel",
            "_view_count": null,
            "_view_module": "@jupyter-widgets/base",
            "_view_module_version": "1.2.0",
            "_view_name": "LayoutView",
            "align_content": null,
            "align_items": null,
            "align_self": null,
            "border": null,
            "bottom": null,
            "display": null,
            "flex": null,
            "flex_flow": null,
            "grid_area": null,
            "grid_auto_columns": null,
            "grid_auto_flow": null,
            "grid_auto_rows": null,
            "grid_column": null,
            "grid_gap": null,
            "grid_row": null,
            "grid_template_areas": null,
            "grid_template_columns": null,
            "grid_template_rows": null,
            "height": null,
            "justify_content": null,
            "justify_items": null,
            "left": null,
            "margin": null,
            "max_height": null,
            "max_width": null,
            "min_height": null,
            "min_width": null,
            "object_fit": null,
            "object_position": null,
            "order": null,
            "overflow": null,
            "overflow_x": null,
            "overflow_y": null,
            "padding": null,
            "right": null,
            "top": null,
            "visibility": null,
            "width": null
          }
        },
        "9bd6910657764497b06a027a87cabb57": {
          "model_module": "@jupyter-widgets/controls",
          "model_name": "ProgressStyleModel",
          "model_module_version": "1.5.0",
          "state": {
            "_model_module": "@jupyter-widgets/controls",
            "_model_module_version": "1.5.0",
            "_model_name": "ProgressStyleModel",
            "_view_count": null,
            "_view_module": "@jupyter-widgets/base",
            "_view_module_version": "1.2.0",
            "_view_name": "StyleView",
            "bar_color": null,
            "description_width": ""
          }
        },
        "376cadf6a6064fd3a04e88fd1c9e1891": {
          "model_module": "@jupyter-widgets/base",
          "model_name": "LayoutModel",
          "model_module_version": "1.2.0",
          "state": {
            "_model_module": "@jupyter-widgets/base",
            "_model_module_version": "1.2.0",
            "_model_name": "LayoutModel",
            "_view_count": null,
            "_view_module": "@jupyter-widgets/base",
            "_view_module_version": "1.2.0",
            "_view_name": "LayoutView",
            "align_content": null,
            "align_items": null,
            "align_self": null,
            "border": null,
            "bottom": null,
            "display": null,
            "flex": null,
            "flex_flow": null,
            "grid_area": null,
            "grid_auto_columns": null,
            "grid_auto_flow": null,
            "grid_auto_rows": null,
            "grid_column": null,
            "grid_gap": null,
            "grid_row": null,
            "grid_template_areas": null,
            "grid_template_columns": null,
            "grid_template_rows": null,
            "height": null,
            "justify_content": null,
            "justify_items": null,
            "left": null,
            "margin": null,
            "max_height": null,
            "max_width": null,
            "min_height": null,
            "min_width": null,
            "object_fit": null,
            "object_position": null,
            "order": null,
            "overflow": null,
            "overflow_x": null,
            "overflow_y": null,
            "padding": null,
            "right": null,
            "top": null,
            "visibility": null,
            "width": null
          }
        },
        "0ed5f8c15f8f49eeb98850f770f7b1da": {
          "model_module": "@jupyter-widgets/controls",
          "model_name": "DescriptionStyleModel",
          "model_module_version": "1.5.0",
          "state": {
            "_model_module": "@jupyter-widgets/controls",
            "_model_module_version": "1.5.0",
            "_model_name": "DescriptionStyleModel",
            "_view_count": null,
            "_view_module": "@jupyter-widgets/base",
            "_view_module_version": "1.2.0",
            "_view_name": "StyleView",
            "description_width": ""
          }
        },
        "818f2ab204834351a512cbfadb90c986": {
          "model_module": "@jupyter-widgets/controls",
          "model_name": "HBoxModel",
          "model_module_version": "1.5.0",
          "state": {
            "_dom_classes": [],
            "_model_module": "@jupyter-widgets/controls",
            "_model_module_version": "1.5.0",
            "_model_name": "HBoxModel",
            "_view_count": null,
            "_view_module": "@jupyter-widgets/controls",
            "_view_module_version": "1.5.0",
            "_view_name": "HBoxView",
            "box_style": "",
            "children": [
              "IPY_MODEL_537e739063da4b69b68b4169693995e9",
              "IPY_MODEL_50c7e73d75dd44e2a58730b06f3165cf",
              "IPY_MODEL_cfb3eb95d07943fc80cb644f8c443e69"
            ],
            "layout": "IPY_MODEL_7a642345c5bd4db99af64d78f88bd1b5"
          }
        },
        "537e739063da4b69b68b4169693995e9": {
          "model_module": "@jupyter-widgets/controls",
          "model_name": "HTMLModel",
          "model_module_version": "1.5.0",
          "state": {
            "_dom_classes": [],
            "_model_module": "@jupyter-widgets/controls",
            "_model_module_version": "1.5.0",
            "_model_name": "HTMLModel",
            "_view_count": null,
            "_view_module": "@jupyter-widgets/controls",
            "_view_module_version": "1.5.0",
            "_view_name": "HTMLView",
            "description": "",
            "description_tooltip": null,
            "layout": "IPY_MODEL_d21cbc91c58e477facae412f0a89076d",
            "placeholder": "​",
            "style": "IPY_MODEL_dbcaa3276a704bf5bf899e8facacfc01",
            "value": "  6%"
          }
        },
        "50c7e73d75dd44e2a58730b06f3165cf": {
          "model_module": "@jupyter-widgets/controls",
          "model_name": "FloatProgressModel",
          "model_module_version": "1.5.0",
          "state": {
            "_dom_classes": [],
            "_model_module": "@jupyter-widgets/controls",
            "_model_module_version": "1.5.0",
            "_model_name": "FloatProgressModel",
            "_view_count": null,
            "_view_module": "@jupyter-widgets/controls",
            "_view_module_version": "1.5.0",
            "_view_name": "ProgressView",
            "bar_style": "danger",
            "description": "",
            "description_tooltip": null,
            "layout": "IPY_MODEL_80307331cb9d4c338085e7403d298ce9",
            "max": 241,
            "min": 0,
            "orientation": "horizontal",
            "style": "IPY_MODEL_2715e0efc2634001a96b19441f341ec9",
            "value": 14
          }
        },
        "cfb3eb95d07943fc80cb644f8c443e69": {
          "model_module": "@jupyter-widgets/controls",
          "model_name": "HTMLModel",
          "model_module_version": "1.5.0",
          "state": {
            "_dom_classes": [],
            "_model_module": "@jupyter-widgets/controls",
            "_model_module_version": "1.5.0",
            "_model_name": "HTMLModel",
            "_view_count": null,
            "_view_module": "@jupyter-widgets/controls",
            "_view_module_version": "1.5.0",
            "_view_name": "HTMLView",
            "description": "",
            "description_tooltip": null,
            "layout": "IPY_MODEL_09ec2b19ee5a4955b97f60a7cee08fdc",
            "placeholder": "​",
            "style": "IPY_MODEL_465524757fcb4654b26b651dd8996f32",
            "value": " 14/241 [00:07&lt;02:36,  1.45it/s]"
          }
        },
        "7a642345c5bd4db99af64d78f88bd1b5": {
          "model_module": "@jupyter-widgets/base",
          "model_name": "LayoutModel",
          "model_module_version": "1.2.0",
          "state": {
            "_model_module": "@jupyter-widgets/base",
            "_model_module_version": "1.2.0",
            "_model_name": "LayoutModel",
            "_view_count": null,
            "_view_module": "@jupyter-widgets/base",
            "_view_module_version": "1.2.0",
            "_view_name": "LayoutView",
            "align_content": null,
            "align_items": null,
            "align_self": null,
            "border": null,
            "bottom": null,
            "display": null,
            "flex": null,
            "flex_flow": null,
            "grid_area": null,
            "grid_auto_columns": null,
            "grid_auto_flow": null,
            "grid_auto_rows": null,
            "grid_column": null,
            "grid_gap": null,
            "grid_row": null,
            "grid_template_areas": null,
            "grid_template_columns": null,
            "grid_template_rows": null,
            "height": null,
            "justify_content": null,
            "justify_items": null,
            "left": null,
            "margin": null,
            "max_height": null,
            "max_width": null,
            "min_height": null,
            "min_width": null,
            "object_fit": null,
            "object_position": null,
            "order": null,
            "overflow": null,
            "overflow_x": null,
            "overflow_y": null,
            "padding": null,
            "right": null,
            "top": null,
            "visibility": null,
            "width": null
          }
        },
        "d21cbc91c58e477facae412f0a89076d": {
          "model_module": "@jupyter-widgets/base",
          "model_name": "LayoutModel",
          "model_module_version": "1.2.0",
          "state": {
            "_model_module": "@jupyter-widgets/base",
            "_model_module_version": "1.2.0",
            "_model_name": "LayoutModel",
            "_view_count": null,
            "_view_module": "@jupyter-widgets/base",
            "_view_module_version": "1.2.0",
            "_view_name": "LayoutView",
            "align_content": null,
            "align_items": null,
            "align_self": null,
            "border": null,
            "bottom": null,
            "display": null,
            "flex": null,
            "flex_flow": null,
            "grid_area": null,
            "grid_auto_columns": null,
            "grid_auto_flow": null,
            "grid_auto_rows": null,
            "grid_column": null,
            "grid_gap": null,
            "grid_row": null,
            "grid_template_areas": null,
            "grid_template_columns": null,
            "grid_template_rows": null,
            "height": null,
            "justify_content": null,
            "justify_items": null,
            "left": null,
            "margin": null,
            "max_height": null,
            "max_width": null,
            "min_height": null,
            "min_width": null,
            "object_fit": null,
            "object_position": null,
            "order": null,
            "overflow": null,
            "overflow_x": null,
            "overflow_y": null,
            "padding": null,
            "right": null,
            "top": null,
            "visibility": null,
            "width": null
          }
        },
        "dbcaa3276a704bf5bf899e8facacfc01": {
          "model_module": "@jupyter-widgets/controls",
          "model_name": "DescriptionStyleModel",
          "model_module_version": "1.5.0",
          "state": {
            "_model_module": "@jupyter-widgets/controls",
            "_model_module_version": "1.5.0",
            "_model_name": "DescriptionStyleModel",
            "_view_count": null,
            "_view_module": "@jupyter-widgets/base",
            "_view_module_version": "1.2.0",
            "_view_name": "StyleView",
            "description_width": ""
          }
        },
        "80307331cb9d4c338085e7403d298ce9": {
          "model_module": "@jupyter-widgets/base",
          "model_name": "LayoutModel",
          "model_module_version": "1.2.0",
          "state": {
            "_model_module": "@jupyter-widgets/base",
            "_model_module_version": "1.2.0",
            "_model_name": "LayoutModel",
            "_view_count": null,
            "_view_module": "@jupyter-widgets/base",
            "_view_module_version": "1.2.0",
            "_view_name": "LayoutView",
            "align_content": null,
            "align_items": null,
            "align_self": null,
            "border": null,
            "bottom": null,
            "display": null,
            "flex": null,
            "flex_flow": null,
            "grid_area": null,
            "grid_auto_columns": null,
            "grid_auto_flow": null,
            "grid_auto_rows": null,
            "grid_column": null,
            "grid_gap": null,
            "grid_row": null,
            "grid_template_areas": null,
            "grid_template_columns": null,
            "grid_template_rows": null,
            "height": null,
            "justify_content": null,
            "justify_items": null,
            "left": null,
            "margin": null,
            "max_height": null,
            "max_width": null,
            "min_height": null,
            "min_width": null,
            "object_fit": null,
            "object_position": null,
            "order": null,
            "overflow": null,
            "overflow_x": null,
            "overflow_y": null,
            "padding": null,
            "right": null,
            "top": null,
            "visibility": null,
            "width": null
          }
        },
        "2715e0efc2634001a96b19441f341ec9": {
          "model_module": "@jupyter-widgets/controls",
          "model_name": "ProgressStyleModel",
          "model_module_version": "1.5.0",
          "state": {
            "_model_module": "@jupyter-widgets/controls",
            "_model_module_version": "1.5.0",
            "_model_name": "ProgressStyleModel",
            "_view_count": null,
            "_view_module": "@jupyter-widgets/base",
            "_view_module_version": "1.2.0",
            "_view_name": "StyleView",
            "bar_color": null,
            "description_width": ""
          }
        },
        "09ec2b19ee5a4955b97f60a7cee08fdc": {
          "model_module": "@jupyter-widgets/base",
          "model_name": "LayoutModel",
          "model_module_version": "1.2.0",
          "state": {
            "_model_module": "@jupyter-widgets/base",
            "_model_module_version": "1.2.0",
            "_model_name": "LayoutModel",
            "_view_count": null,
            "_view_module": "@jupyter-widgets/base",
            "_view_module_version": "1.2.0",
            "_view_name": "LayoutView",
            "align_content": null,
            "align_items": null,
            "align_self": null,
            "border": null,
            "bottom": null,
            "display": null,
            "flex": null,
            "flex_flow": null,
            "grid_area": null,
            "grid_auto_columns": null,
            "grid_auto_flow": null,
            "grid_auto_rows": null,
            "grid_column": null,
            "grid_gap": null,
            "grid_row": null,
            "grid_template_areas": null,
            "grid_template_columns": null,
            "grid_template_rows": null,
            "height": null,
            "justify_content": null,
            "justify_items": null,
            "left": null,
            "margin": null,
            "max_height": null,
            "max_width": null,
            "min_height": null,
            "min_width": null,
            "object_fit": null,
            "object_position": null,
            "order": null,
            "overflow": null,
            "overflow_x": null,
            "overflow_y": null,
            "padding": null,
            "right": null,
            "top": null,
            "visibility": null,
            "width": null
          }
        },
        "465524757fcb4654b26b651dd8996f32": {
          "model_module": "@jupyter-widgets/controls",
          "model_name": "DescriptionStyleModel",
          "model_module_version": "1.5.0",
          "state": {
            "_model_module": "@jupyter-widgets/controls",
            "_model_module_version": "1.5.0",
            "_model_name": "DescriptionStyleModel",
            "_view_count": null,
            "_view_module": "@jupyter-widgets/base",
            "_view_module_version": "1.2.0",
            "_view_name": "StyleView",
            "description_width": ""
          }
        }
      }
    }
  },
  "cells": [
    {
      "cell_type": "markdown",
      "metadata": {
        "id": "view-in-github",
        "colab_type": "text"
      },
      "source": [
        "<a href=\"https://colab.research.google.com/github/maetthil/NASASpaceApps/blob/main/Read_Dataset.ipynb\" target=\"_parent\"><img src=\"https://colab.research.google.com/assets/colab-badge.svg\" alt=\"Open In Colab\"/></a>"
      ]
    },
    {
      "cell_type": "code",
      "source": [
        "%%capture\n",
        "!pip install cdflib"
      ],
      "metadata": {
        "id": "iSi2R7CfEDMl"
      },
      "execution_count": 1,
      "outputs": []
    },
    {
      "cell_type": "code",
      "source": [
        "import glob\n",
        "import cdflib \n",
        "import sys\n",
        "import os\n",
        "import requests\n",
        "import pytz\n",
        "import datetime\n",
        "import pandas as pd\n",
        "from bs4 import BeautifulSoup as bs\n",
        "from tqdm.notebook import tqdm\n",
        "\n",
        "import matplotlib.pyplot as plt"
      ],
      "metadata": {
        "id": "M8k7JUZjWCaB"
      },
      "execution_count": 2,
      "outputs": []
    },
    {
      "cell_type": "code",
      "source": [
        "DATASET_PATH = 'dataset/'"
      ],
      "metadata": {
        "id": "wq7Fgk-1WFvJ"
      },
      "execution_count": 3,
      "outputs": []
    },
    {
      "cell_type": "code",
      "source": [
        "def download_bwt_file(year='2022', data='wind', n=10):\n",
        "    if data == 'dscovr':\n",
        "        url = f'https://cdaweb.gsfc.nasa.gov/pub/data/dscovr/h0/mag/{year}/' \n",
        "    elif data == 'wind':\n",
        "        url = f'https://cdaweb.gsfc.nasa.gov/pub/data/wind/mfi/mfi_h2/{year}/'\n",
        "    elif data == 'wind_ion':\n",
        "        url = f'https://cdaweb.gsfc.nasa.gov/pub/data/wind/swe/swe_h1/{year}/'\n",
        "    else:\n",
        "        raise Exception('Conjunto de dados desconhecido')\n",
        "    content = requests.get(url).content\n",
        "    DATA_FOLDER = 'dataset/'\n",
        "    if not os.path.exists(os.path.join(DATA_FOLDER, data)):\n",
        "        os.makedirs(os.path.join(DATA_FOLDER, data))\n",
        "    links = bs(content).findAll('a', href=True)\n",
        "    print (f'Baixando arquivos de dados de {year}')\n",
        "    downloaded = 0\n",
        "    for link in tqdm(links):\n",
        "        if downloaded == n:\n",
        "            break\n",
        "        filename = link['href']\n",
        "        if filename.find('.cdf') < 0:\n",
        "            continue\n",
        "        response = requests.get(f'{url}{filename}')\n",
        "        with open(f'{DATA_FOLDER}{data}/{filename}', 'wb') as f:\n",
        "            f.write(response.content)\n",
        "        downloaded += 1"
      ],
      "metadata": {
        "id": "D1twE9UdV-hK"
      },
      "execution_count": 14,
      "outputs": []
    },
    {
      "cell_type": "code",
      "source": [
        "download_bwt_file(data='wind')"
      ],
      "metadata": {
        "colab": {
          "base_uri": "https://localhost:8080/",
          "height": 66,
          "referenced_widgets": [
            "750d4d517b2f472f83c88580de2bbcd0",
            "605c24b3f1d74870b3c58acd029d22c1",
            "a56d10c2250445ff9aa6ce39d5ac9847",
            "12d75f39ecdd40598c4bcf119383c862",
            "6f96934276854c429f400353b423575b",
            "e8e2d53fc5b647d3a092183fbd553bd1",
            "a548cf72e2a24ab4895784e74acc737c",
            "b30edcc963f74752b1320994fab91df7",
            "ea36cc40db8e46cfab752182203bac57",
            "60f96cb466814a51b7a3d6d6058246a9",
            "c791e5efffa74196b8121a7dbdaf5ac3"
          ]
        },
        "id": "x0u7x0IzWMZx",
        "outputId": "d451a8cd-7d45-4c6a-b231-03950f886595"
      },
      "execution_count": 15,
      "outputs": [
        {
          "output_type": "stream",
          "name": "stdout",
          "text": [
            "Baixando arquivos de dados de 2022\n"
          ]
        },
        {
          "output_type": "display_data",
          "data": {
            "text/plain": [
              "  0%|          | 0/264 [00:00<?, ?it/s]"
            ],
            "application/vnd.jupyter.widget-view+json": {
              "version_major": 2,
              "version_minor": 0,
              "model_id": "750d4d517b2f472f83c88580de2bbcd0"
            }
          },
          "metadata": {}
        }
      ]
    },
    {
      "cell_type": "code",
      "source": [
        "download_bwt_file(data='dscovr')"
      ],
      "metadata": {
        "id": "QiBInnzMhY-H",
        "colab": {
          "base_uri": "https://localhost:8080/",
          "height": 66,
          "referenced_widgets": [
            "c05c58ad1a4c4081963bf6ebe6970cec",
            "ca6fa9a5ebd542338391b608f7ebc8f6",
            "bf8ace63ac054b319489f15ac804470d",
            "c156451ca41d4be8b60aaeb73e822961",
            "f1615fb5809f4154936e6d975979ffdc",
            "5ece514f30e2482fba792ad02c3a07e5",
            "eefea8c2f2094db79745ccbeb28726ad",
            "06d9ae5149574f9ab04651658285ecfa",
            "9bd6910657764497b06a027a87cabb57",
            "376cadf6a6064fd3a04e88fd1c9e1891",
            "0ed5f8c15f8f49eeb98850f770f7b1da"
          ]
        },
        "outputId": "1073929d-cbcb-4307-eacd-0dcbf198632e"
      },
      "execution_count": 16,
      "outputs": [
        {
          "output_type": "stream",
          "name": "stdout",
          "text": [
            "Baixando arquivos de dados de 2022\n"
          ]
        },
        {
          "output_type": "display_data",
          "data": {
            "text/plain": [
              "  0%|          | 0/264 [00:00<?, ?it/s]"
            ],
            "application/vnd.jupyter.widget-view+json": {
              "version_major": 2,
              "version_minor": 0,
              "model_id": "c05c58ad1a4c4081963bf6ebe6970cec"
            }
          },
          "metadata": {}
        }
      ]
    },
    {
      "cell_type": "code",
      "source": [
        "download_bwt_file(data='wind_ion')"
      ],
      "metadata": {
        "colab": {
          "base_uri": "https://localhost:8080/",
          "height": 66,
          "referenced_widgets": [
            "818f2ab204834351a512cbfadb90c986",
            "537e739063da4b69b68b4169693995e9",
            "50c7e73d75dd44e2a58730b06f3165cf",
            "cfb3eb95d07943fc80cb644f8c443e69",
            "7a642345c5bd4db99af64d78f88bd1b5",
            "d21cbc91c58e477facae412f0a89076d",
            "dbcaa3276a704bf5bf899e8facacfc01",
            "80307331cb9d4c338085e7403d298ce9",
            "2715e0efc2634001a96b19441f341ec9",
            "09ec2b19ee5a4955b97f60a7cee08fdc",
            "465524757fcb4654b26b651dd8996f32"
          ]
        },
        "id": "PwnEFMGJ4Cvd",
        "outputId": "780ca5b4-24dd-4d98-ae69-80c1c548dd78"
      },
      "execution_count": 18,
      "outputs": [
        {
          "output_type": "stream",
          "name": "stdout",
          "text": [
            "Baixando arquivos de dados de 2022\n"
          ]
        },
        {
          "output_type": "display_data",
          "data": {
            "text/plain": [
              "  0%|          | 0/241 [00:00<?, ?it/s]"
            ],
            "application/vnd.jupyter.widget-view+json": {
              "version_major": 2,
              "version_minor": 0,
              "model_id": "818f2ab204834351a512cbfadb90c986"
            }
          },
          "metadata": {}
        }
      ]
    },
    {
      "cell_type": "markdown",
      "source": [
        "## Leitura de dados"
      ],
      "metadata": {
        "id": "NlKEH6NKWYu_"
      }
    },
    {
      "cell_type": "code",
      "source": [
        "def load_cdf_files(data='wind'):\n",
        "    if data == 'dscovr':\n",
        "        base = 'dataset/dscovr/'\n",
        "    elif data == 'wind':\n",
        "        base = 'dataset/wind/'\n",
        "    elif data == 'wind_ion':\n",
        "        base = 'dataset/wind_ion/'\n",
        "    else:\n",
        "        raise Exception('Conjunto de dados desconhecido')\n",
        "    files = glob.glob(os.path.join(base, '*.cdf'))\n",
        "    for f in files:\n",
        "        yield cdflib.CDF(f)"
      ],
      "metadata": {
        "id": "oi3zHs8-427c"
      },
      "execution_count": 22,
      "outputs": []
    },
    {
      "cell_type": "markdown",
      "source": [
        "## Step one"
      ],
      "metadata": {
        "id": "YZI7xv26Areu"
      }
    },
    {
      "cell_type": "markdown",
      "source": [
        "## Step two"
      ],
      "metadata": {
        "id": "BMXVewhqAr7K"
      }
    },
    {
      "cell_type": "markdown",
      "source": [
        "## Step three"
      ],
      "metadata": {
        "id": "fKNziBEQAX79"
      }
    },
    {
      "cell_type": "code",
      "source": [
        "wind_ion_ds = load_cdf_files(data='wind_ion')"
      ],
      "metadata": {
        "id": "euuZZk-q5yyf"
      },
      "execution_count": 23,
      "outputs": []
    },
    {
      "cell_type": "code",
      "source": [
        "t = next(wind_ion_ds)"
      ],
      "metadata": {
        "id": "eXkVtMyI0Ysd"
      },
      "execution_count": 25,
      "outputs": []
    },
    {
      "cell_type": "code",
      "source": [
        "#Ion parameters we need\n",
        "# density n(D(t))\n",
        "# temperature w(D(t))\n",
        "# velocity n(D(t))"
      ],
      "metadata": {
        "id": "x6rYrP68AMh_"
      },
      "execution_count": null,
      "outputs": []
    },
    {
      "cell_type": "code",
      "source": [
        "t.cdf_info()"
      ],
      "metadata": {
        "id": "xyZ5jPLR03Sh",
        "colab": {
          "base_uri": "https://localhost:8080/"
        },
        "outputId": "58aa5712-3ad3-4023-d7af-9494c9cf6250"
      },
      "execution_count": 27,
      "outputs": [
        {
          "output_type": "execute_result",
          "data": {
            "text/plain": [
              "{'CDF': PosixPath('/content/dataset/wind_ion/wi_h1_swe_20220103_v01.cdf'),\n",
              " 'Version': '3.7.1',\n",
              " 'Encoding': 1,\n",
              " 'Majority': 'Row_major',\n",
              " 'rVariables': [],\n",
              " 'zVariables': ['fit_flag',\n",
              "  'Epoch',\n",
              "  'year',\n",
              "  'doy',\n",
              "  'Proton_V_nonlin',\n",
              "  'Proton_sigmaV_nonlin',\n",
              "  'Proton_VX_nonlin',\n",
              "  'Proton_sigmaVX_nonlin',\n",
              "  'Proton_VY_nonlin',\n",
              "  'Proton_sigmaVY_nonlin',\n",
              "  'Proton_VZ_nonlin',\n",
              "  'Proton_sigmaVZ_nonlin',\n",
              "  'Proton_W_nonlin',\n",
              "  'Proton_sigmaW_nonlin',\n",
              "  'Proton_Wperp_nonlin',\n",
              "  'Proton_sigmaWperp_nonlin',\n",
              "  'Proton_Wpar_nonlin',\n",
              "  'Proton_sigmaWpar_nonlin',\n",
              "  'EW_flowangle',\n",
              "  'SigmaEW_flowangle',\n",
              "  'NS_flowangle',\n",
              "  'SigmaNS_flowangle',\n",
              "  'Proton_Np_nonlin',\n",
              "  'Proton_sigmaNp_nonlin',\n",
              "  'Alpha_V_nonlin',\n",
              "  'Alpha_sigmaV_nonlin',\n",
              "  'Alpha_VX_nonlin',\n",
              "  'Alpha_sigmaVX_nonlin',\n",
              "  'Alpha_VY_nonlin',\n",
              "  'Alpha_sigmaVY_nonlin',\n",
              "  'Alpha_VZ_nonlin',\n",
              "  'Alpha_sigmaVZ_nonlin',\n",
              "  'Alpha_W_nonlin',\n",
              "  'Alpha_sigmaW_nonlin',\n",
              "  'Alpha_Wperp_nonlin',\n",
              "  'Alpha_sigmaWperp_nonlin',\n",
              "  'Alpha_Wpar_nonlin',\n",
              "  'Alpha_sigmaWpar_nonlin',\n",
              "  'Alpha_Na_nonlin',\n",
              "  'Alpha_sigmaNa_nonlin',\n",
              "  'ChisQ_DOF_nonlin',\n",
              "  'Peak_doy',\n",
              "  'sigmaPeak_doy',\n",
              "  'Proton_V_moment',\n",
              "  'Proton_VX_moment',\n",
              "  'Proton_VY_moment',\n",
              "  'Proton_VZ_moment',\n",
              "  'Proton_W_moment',\n",
              "  'Proton_Wperp_moment',\n",
              "  'Proton_Wpar_moment',\n",
              "  'Proton_Np_moment',\n",
              "  'BX',\n",
              "  'BY',\n",
              "  'BZ',\n",
              "  'Ang_dev',\n",
              "  'dev',\n",
              "  'xgse',\n",
              "  'ygse',\n",
              "  'zgse',\n",
              "  'ygsm',\n",
              "  'zgsm'],\n",
              " 'Attributes': [{'Project': 'Global'},\n",
              "  {'Source_name': 'Global'},\n",
              "  {'Discipline': 'Global'},\n",
              "  {'Data_type': 'Global'},\n",
              "  {'Descriptor': 'Global'},\n",
              "  {'File_naming_convention': 'Global'},\n",
              "  {'Data_version': 'Global'},\n",
              "  {'PI_name': 'Global'},\n",
              "  {'PI_affiliation': 'Global'},\n",
              "  {'TEXT': 'Global'},\n",
              "  {'Instrument_type': 'Global'},\n",
              "  {'Mission_group': 'Global'},\n",
              "  {'Logical_source': 'Global'},\n",
              "  {'Logical_file_id': 'Global'},\n",
              "  {'Logical_source_description': 'Global'},\n",
              "  {'Time_resolution': 'Global'},\n",
              "  {'Rules_of_use': 'Global'},\n",
              "  {'Generated_by': 'Global'},\n",
              "  {'Generation_date': 'Global'},\n",
              "  {'Acknowledgement': 'Global'},\n",
              "  {'MODS': 'Global'},\n",
              "  {'ADID_ref': 'Global'},\n",
              "  {'LINK_TEXT': 'Global'},\n",
              "  {'LINK_TITLE': 'Global'},\n",
              "  {'HTTP_LINK': 'Global'},\n",
              "  {'CATDESC': 'Variable'},\n",
              "  {'DEPEND_0': 'Variable'},\n",
              "  {'DEPEND_1': 'Variable'},\n",
              "  {'DEPEND_2': 'Variable'},\n",
              "  {'DEPEND_3': 'Variable'},\n",
              "  {'DICT_KEY': 'Variable'},\n",
              "  {'DISPLAY_TYPE': 'Variable'},\n",
              "  {'FIELDNAM': 'Variable'},\n",
              "  {'FILLVAL': 'Variable'},\n",
              "  {'FORMAT': 'Variable'},\n",
              "  {'LABLAXIS': 'Variable'},\n",
              "  {'LABL_PTR_1': 'Variable'},\n",
              "  {'LABL_PTR_2': 'Variable'},\n",
              "  {'LABL_PTR_3': 'Variable'},\n",
              "  {'UNITS': 'Variable'},\n",
              "  {'UNIT_PTR': 'Variable'},\n",
              "  {'VALIDMIN': 'Variable'},\n",
              "  {'VALIDMAX': 'Variable'},\n",
              "  {'VAR_TYPE': 'Variable'},\n",
              "  {'SCALETYP': 'Variable'},\n",
              "  {'SCAL_PTR': 'Variable'},\n",
              "  {'VAR_NOTES': 'Variable'},\n",
              "  {'MONOTON': 'Variable'},\n",
              "  {'LEAP_SECONDS_INCLUDED': 'Variable'},\n",
              "  {'RESOLUTION': 'Variable'},\n",
              "  {'Bin_location': 'Variable'},\n",
              "  {'TIME_BASE': 'Variable'},\n",
              "  {'TIME_SCALE': 'Variable'},\n",
              "  {'REFERENCE_POSITION': 'Variable'},\n",
              "  {'ABSOLUTE_ERROR': 'Variable'},\n",
              "  {'RELATIVE_ERROR': 'Variable'},\n",
              "  {'FORM_PTR': 'Variable'},\n",
              "  {'DELTA_PLUS_VAR': 'Variable'},\n",
              "  {'DELTA_MINUS_VAR': 'Variable'}],\n",
              " 'Copyright': '\\nCommon Data Format (CDF)\\nhttps://cdf.gsfc.nasa.gov\\nSpace Physics Data Facility\\nNASA/Goddard Space Flight Center\\nGreenbelt, Maryland 20771 USA\\n(User support: gsfc-cdf-support@lists.nasa.gov)\\n',\n",
              " 'Checksum': True,\n",
              " 'Num_rdim': 0,\n",
              " 'rDim_sizes': [],\n",
              " 'Compressed': False,\n",
              " 'LeapSecondUpdated': -1}"
            ]
          },
          "metadata": {},
          "execution_count": 27
        }
      ]
    }
  ]
}